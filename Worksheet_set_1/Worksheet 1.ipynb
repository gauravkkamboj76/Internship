{
 "cells": [
  {
   "cell_type": "markdown",
   "metadata": {},
   "source": [
    "Ques.11: How to find factorial of any integers?"
   ]
  },
  {
   "cell_type": "code",
   "execution_count": 1,
   "metadata": {},
   "outputs": [
    {
     "name": "stdout",
     "output_type": "stream",
     "text": [
      "720\n"
     ]
    }
   ],
   "source": [
    "def factorial(n):\n",
    "    if n<0:\n",
    "        print(\"factorial occurs only on positive Integers\")\n",
    "    elif n==0:\n",
    "        return 1\n",
    "    else:\n",
    "        result=n * factorial(n-1)\n",
    "        return result\n",
    "    \n",
    "print(factorial(6))   \n",
    "    "
   ]
  },
  {
   "cell_type": "code",
   "execution_count": 2,
   "metadata": {},
   "outputs": [
    {
     "name": "stdout",
     "output_type": "stream",
     "text": [
      "2432902008176640000\n"
     ]
    }
   ],
   "source": [
    "print(factorial(20))"
   ]
  },
  {
   "cell_type": "code",
   "execution_count": 3,
   "metadata": {},
   "outputs": [
    {
     "name": "stdout",
     "output_type": "stream",
     "text": [
      "factorial occurs only on positive Integers\n",
      "None\n"
     ]
    }
   ],
   "source": [
    "print(factorial(-20))"
   ]
  },
  {
   "cell_type": "markdown",
   "metadata": {},
   "source": [
    "Ques.12: How to check an integer is prime or composite?"
   ]
  },
  {
   "cell_type": "code",
   "execution_count": 4,
   "metadata": {},
   "outputs": [],
   "source": [
    "def prime(n):\n",
    "    if n>1:\n",
    "        for i in range(2,n):\n",
    "            if (n % i) == 0:\n",
    "                print(n, \"is a composite integer\")\n",
    "                break\n",
    "            else: print(n, \"is a prime integer\")\n",
    "    elif n == 0 or 1:\n",
    "        print(n, \"is a neither prime nor composite integer\")\n",
    "    else: print(n,\"is a composite integer\")"
   ]
  },
  {
   "cell_type": "code",
   "execution_count": 5,
   "metadata": {},
   "outputs": [
    {
     "name": "stdout",
     "output_type": "stream",
     "text": [
      "3 is a prime integer\n"
     ]
    }
   ],
   "source": [
    "prime(3)"
   ]
  },
  {
   "cell_type": "code",
   "execution_count": 6,
   "metadata": {},
   "outputs": [
    {
     "name": "stdout",
     "output_type": "stream",
     "text": [
      "4 is a composite integer\n"
     ]
    }
   ],
   "source": [
    "prime(4)"
   ]
  },
  {
   "cell_type": "code",
   "execution_count": 7,
   "metadata": {},
   "outputs": [
    {
     "name": "stdout",
     "output_type": "stream",
     "text": [
      "24 is a composite integer\n"
     ]
    }
   ],
   "source": [
    "prime(24)"
   ]
  },
  {
   "cell_type": "markdown",
   "metadata": {},
   "source": [
    "Ques.13: To check whether a given string is palindrome or not."
   ]
  },
  {
   "cell_type": "code",
   "execution_count": 8,
   "metadata": {},
   "outputs": [
    {
     "name": "stdout",
     "output_type": "stream",
     "text": [
      "palindrome\n"
     ]
    }
   ],
   "source": [
    "def str(n):\n",
    "    return n == n[::-1]\n",
    "\n",
    "\n",
    "n = \"non\"\n",
    "\n",
    "if str(n):\n",
    "    print(\"palindrome\")\n",
    "    \n",
    "else:\n",
    "    print(\"Not a palindrome\")"
   ]
  },
  {
   "cell_type": "code",
   "execution_count": 9,
   "metadata": {},
   "outputs": [
    {
     "name": "stdout",
     "output_type": "stream",
     "text": [
      "Not a palindrome\n"
     ]
    }
   ],
   "source": [
    "def str(n):\n",
    "    return n == n[::-1]\n",
    "\n",
    "\n",
    "n = \"Python\"\n",
    "\n",
    "if str(n):\n",
    "    print(\"palindrome\")\n",
    "    \n",
    "else:\n",
    "    print(\"Not a palindrome\")"
   ]
  },
  {
   "cell_type": "markdown",
   "metadata": {},
   "source": [
    "Ques.14: How to get the third side of right-angled triangle from two given sides?"
   ]
  },
  {
   "cell_type": "code",
   "execution_count": 10,
   "metadata": {},
   "outputs": [],
   "source": [
    "def triangle(x,y):\n",
    "    h=((x**2)+(y**2))**(1/2)\n",
    "    return h"
   ]
  },
  {
   "cell_type": "code",
   "execution_count": 11,
   "metadata": {},
   "outputs": [
    {
     "data": {
      "text/plain": [
       "5.0"
      ]
     },
     "execution_count": 11,
     "metadata": {},
     "output_type": "execute_result"
    }
   ],
   "source": [
    "triangle(3,4)"
   ]
  },
  {
   "cell_type": "markdown",
   "metadata": {},
   "source": [
    "Ques.15: Write a python program to print the frequency of each of the characters present in a given string."
   ]
  },
  {
   "cell_type": "code",
   "execution_count": 12,
   "metadata": {},
   "outputs": [
    {
     "name": "stdout",
     "output_type": "stream",
     "text": [
      "{'L': 2, 'e': 2, 'a': 3, 'r': 1, 'n': 4, 'i': 1, 'g': 3, ' ': 2, 'p': 1, 'y': 1, 't': 1, 'h': 1, 'o': 1, 'u': 1}\n"
     ]
    }
   ],
   "source": [
    "str = \"Learning python Langauge\"\n",
    "\n",
    "res = {}\n",
    "\n",
    "for keys in str:\n",
    "    res[keys] = res.get(keys, 0) + 1\n",
    "\n",
    "\n",
    "print(res)"
   ]
  },
  {
   "cell_type": "code",
   "execution_count": 13,
   "metadata": {},
   "outputs": [
    {
     "name": "stdout",
     "output_type": "stream",
     "text": [
      "{'w': 1, 'a': 4, 'n': 2, 't': 5, ' ': 5, 'o': 2, 'b': 1, 'e': 3, 'c': 2, 'm': 1, 'd': 1, 's': 2, 'i': 2}\n"
     ]
    }
   ],
   "source": [
    "str = \"want to become a data scientist\"\n",
    "\n",
    "res = {}\n",
    "\n",
    "for keys in str:\n",
    "    res[keys] = res.get(keys, 0) + 1\n",
    "\n",
    "\n",
    "print(res)"
   ]
  }
 ],
 "metadata": {
  "kernelspec": {
   "display_name": "Python 3 (ipykernel)",
   "language": "python",
   "name": "python3"
  },
  "language_info": {
   "codemirror_mode": {
    "name": "ipython",
    "version": 3
   },
   "file_extension": ".py",
   "mimetype": "text/x-python",
   "name": "python",
   "nbconvert_exporter": "python",
   "pygments_lexer": "ipython3",
   "version": "3.8.12"
  }
 },
 "nbformat": 4,
 "nbformat_minor": 4
}

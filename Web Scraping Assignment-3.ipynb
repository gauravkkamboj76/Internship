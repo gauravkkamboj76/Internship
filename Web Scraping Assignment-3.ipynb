{
 "cells": [
  {
   "cell_type": "code",
   "execution_count": 1,
   "id": "0d98fd6e",
   "metadata": {},
   "outputs": [],
   "source": [
    "import selenium\n",
    "from selenium import webdriver\n",
    "import pandas as pd\n",
    "import numpy as np\n",
    "import time \n",
    "import warnings\n",
    "warnings.filterwarnings('ignore')\n",
    "#import \n",
    "import requests"
   ]
  },
  {
   "cell_type": "code",
   "execution_count": 2,
   "id": "79d746b3",
   "metadata": {},
   "outputs": [],
   "source": [
    "from selenium.common.exceptions import ElementNotInteractableException , NoSuchElementException, StaleElementReferenceException\n",
    "from selenium.webdriver.support.ui import WebDriverWait"
   ]
  },
  {
   "cell_type": "markdown",
   "id": "de119b2b",
   "metadata": {},
   "source": [
    "---------------completed------------------------\n",
    "\n",
    "Exercise:\n",
    "1. Write a python program which searches all the product under a particular product from www.amazon.in. The product to be searched will be taken as input from user. For e.g. If user input is ‘guitar’. Then search for guitars."
   ]
  },
  {
   "cell_type": "code",
   "execution_count": 3,
   "id": "57867e29",
   "metadata": {},
   "outputs": [
    {
     "name": "stdout",
     "output_type": "stream",
     "text": [
      "Enter product name to be searched:guitar\n"
     ]
    }
   ],
   "source": [
    "driver1=webdriver.Chrome(r\"c:\\web driver\\chromedriver.exe\")\n",
    "driver1.get(\"http://www.amazon.in/\")\n",
    "time.sleep(5)\n",
    "\n",
    "a=input(\"Enter product name to be searched:\")\n",
    "\n",
    "search=driver1.find_element_by_xpath(\"/html/body/div[1]/header/div/div[1]/div[2]/div/form/div[2]/div[1]/input\")\n",
    "search.send_keys(a)\n",
    "\n",
    "search_product=driver1.find_element_by_xpath(\"/html/body/div[1]/header/div/div[1]/div[2]/div/form/div[3]/div/span/input\").click()\n",
    "driver1.maximize_window()"
   ]
  },
  {
   "cell_type": "code",
   "execution_count": 5,
   "id": "c5be27ac",
   "metadata": {},
   "outputs": [],
   "source": [
    "# driver1.close"
   ]
  },
  {
   "cell_type": "markdown",
   "id": "040a6d33",
   "metadata": {},
   "source": [
    "2.  In the above question, now scrape the following details of each product listed in first 3 pages of your \n",
    "    search results and save it in a data frame and csv. In case if any product has less than 3 pages in search \n",
    "    results then scrape all the products available under that product name. Details to be scraped are: \"Brand \n",
    "    Name\", \"Name of the Product\", \"Price\", \"Return/Exchange\", \"Expected Delivery\", \"Availability\" and \n",
    "    “Product URL”. In case, if any of the details are missing for any of the product then replace it by “-“."
   ]
  },
  {
   "cell_type": "code",
   "execution_count": 4,
   "id": "6e5aa51f",
   "metadata": {},
   "outputs": [],
   "source": [
    "product_urls=[]\n",
    "for i in range(0,3):\n",
    "    url=driver1.find_elements_by_xpath(\"//a[@class='a-link-normal s-underline-text s-underline-link-text s-link-style a-text-normal']\")\n",
    "    for j in url:\n",
    "        product_urls.append(j.get_attribute('href'))\n",
    "    try:\n",
    "        next_page=driver1.find_element_by_xpath(\"//a[@class='s-pagination-item s-pagination-next s-pagination-button s-pagination-separator']\").click()\n",
    "        time.sleep(4)\n",
    "        driver1.refresh()\n",
    "    except:\n",
    "        break"
   ]
  },
  {
   "cell_type": "code",
   "execution_count": 5,
   "id": "85dbdf6b",
   "metadata": {},
   "outputs": [],
   "source": [
    "brand=[]\n",
    "name=[]\n",
    "price=[]\n",
    "exchange=[]\n",
    "delivery=[]\n",
    "availability=[]\n",
    "links=[]"
   ]
  },
  {
   "cell_type": "code",
   "execution_count": 12,
   "id": "034ebf0b",
   "metadata": {
    "collapsed": true
   },
   "outputs": [
    {
     "ename": "WebDriverException",
     "evalue": "Message: unknown error: net::ERR_NAME_NOT_RESOLVED\n  (Session info: chrome=107.0.5304.107)\nStacktrace:\nBacktrace:\n\tOrdinal0 [0x0046ACD3+2075859]\n\tOrdinal0 [0x003FEE61+1633889]\n\tOrdinal0 [0x002FB7BD+571325]\n\tOrdinal0 [0x002F7CD2+556242]\n\tOrdinal0 [0x002EEC5D+519261]\n\tOrdinal0 [0x002EFAEC+522988]\n\tOrdinal0 [0x002EEF27+519975]\n\tOrdinal0 [0x002EE2EB+516843]\n\tOrdinal0 [0x002EE231+516657]\n\tOrdinal0 [0x002ED0A3+512163]\n\tOrdinal0 [0x002ED5AD+513453]\n\tOrdinal0 [0x002FD0CE+577742]\n\tOrdinal0 [0x0035BC7D+965757]\n\tOrdinal0 [0x0034731C+881436]\n\tOrdinal0 [0x0035B56A+963946]\n\tOrdinal0 [0x00347136+880950]\n\tOrdinal0 [0x0031FEFD+720637]\n\tOrdinal0 [0x00320F3F+724799]\n\tGetHandleVerifier [0x0071EED2+2769538]\n\tGetHandleVerifier [0x00710D95+2711877]\n\tGetHandleVerifier [0x004FA03A+521194]\n\tGetHandleVerifier [0x004F8DA0+516432]\n\tOrdinal0 [0x0040682C+1665068]\n\tOrdinal0 [0x0040B128+1683752]\n\tOrdinal0 [0x0040B215+1683989]\n\tOrdinal0 [0x00416484+1729668]\n\tBaseThreadInitThunk [0x7582FA29+25]\n\tRtlGetAppContainerNamedObjectPath [0x778C7BBE+286]\n\tRtlGetAppContainerNamedObjectPath [0x778C7B8E+238]\n",
     "output_type": "error",
     "traceback": [
      "\u001b[1;31m---------------------------------------------------------------------------\u001b[0m",
      "\u001b[1;31mWebDriverException\u001b[0m                        Traceback (most recent call last)",
      "\u001b[1;32m~\\AppData\\Local\\Temp/ipykernel_11712/628331718.py\u001b[0m in \u001b[0;36m<module>\u001b[1;34m\u001b[0m\n\u001b[0;32m      1\u001b[0m \u001b[1;32mfor\u001b[0m \u001b[0mlink\u001b[0m \u001b[1;32min\u001b[0m \u001b[0mproduct_urls\u001b[0m\u001b[1;33m:\u001b[0m\u001b[1;33m\u001b[0m\u001b[1;33m\u001b[0m\u001b[0m\n\u001b[1;32m----> 2\u001b[1;33m     \u001b[0mdriver1\u001b[0m\u001b[1;33m.\u001b[0m\u001b[0mget\u001b[0m\u001b[1;33m(\u001b[0m\u001b[0mlink\u001b[0m\u001b[1;33m)\u001b[0m\u001b[1;33m\u001b[0m\u001b[1;33m\u001b[0m\u001b[0m\n\u001b[0m\u001b[0;32m      3\u001b[0m \u001b[1;33m\u001b[0m\u001b[0m\n\u001b[0;32m      4\u001b[0m     \u001b[1;32mtry\u001b[0m\u001b[1;33m:\u001b[0m\u001b[1;33m\u001b[0m\u001b[1;33m\u001b[0m\u001b[0m\n\u001b[0;32m      5\u001b[0m         \u001b[1;32mfor\u001b[0m \u001b[0mnam\u001b[0m \u001b[1;32min\u001b[0m \u001b[0mdriver1\u001b[0m\u001b[1;33m.\u001b[0m\u001b[0mfind_elements_by_xpath\u001b[0m\u001b[1;33m(\u001b[0m\u001b[1;34m\"//span[@id='productTitle']\"\u001b[0m\u001b[1;33m)\u001b[0m\u001b[1;33m:\u001b[0m\u001b[1;33m\u001b[0m\u001b[1;33m\u001b[0m\u001b[0m\n",
      "\u001b[1;32m~\\anaconda3\\lib\\site-packages\\selenium\\webdriver\\remote\\webdriver.py\u001b[0m in \u001b[0;36mget\u001b[1;34m(self, url)\u001b[0m\n\u001b[0;32m    440\u001b[0m         \u001b[0mLoads\u001b[0m \u001b[0ma\u001b[0m \u001b[0mweb\u001b[0m \u001b[0mpage\u001b[0m \u001b[1;32min\u001b[0m \u001b[0mthe\u001b[0m \u001b[0mcurrent\u001b[0m \u001b[0mbrowser\u001b[0m \u001b[0msession\u001b[0m\u001b[1;33m.\u001b[0m\u001b[1;33m\u001b[0m\u001b[1;33m\u001b[0m\u001b[0m\n\u001b[0;32m    441\u001b[0m         \"\"\"\n\u001b[1;32m--> 442\u001b[1;33m         \u001b[0mself\u001b[0m\u001b[1;33m.\u001b[0m\u001b[0mexecute\u001b[0m\u001b[1;33m(\u001b[0m\u001b[0mCommand\u001b[0m\u001b[1;33m.\u001b[0m\u001b[0mGET\u001b[0m\u001b[1;33m,\u001b[0m \u001b[1;33m{\u001b[0m\u001b[1;34m'url'\u001b[0m\u001b[1;33m:\u001b[0m \u001b[0murl\u001b[0m\u001b[1;33m}\u001b[0m\u001b[1;33m)\u001b[0m\u001b[1;33m\u001b[0m\u001b[1;33m\u001b[0m\u001b[0m\n\u001b[0m\u001b[0;32m    443\u001b[0m \u001b[1;33m\u001b[0m\u001b[0m\n\u001b[0;32m    444\u001b[0m     \u001b[1;33m@\u001b[0m\u001b[0mproperty\u001b[0m\u001b[1;33m\u001b[0m\u001b[1;33m\u001b[0m\u001b[0m\n",
      "\u001b[1;32m~\\anaconda3\\lib\\site-packages\\selenium\\webdriver\\remote\\webdriver.py\u001b[0m in \u001b[0;36mexecute\u001b[1;34m(self, driver_command, params)\u001b[0m\n\u001b[0;32m    428\u001b[0m         \u001b[0mresponse\u001b[0m \u001b[1;33m=\u001b[0m \u001b[0mself\u001b[0m\u001b[1;33m.\u001b[0m\u001b[0mcommand_executor\u001b[0m\u001b[1;33m.\u001b[0m\u001b[0mexecute\u001b[0m\u001b[1;33m(\u001b[0m\u001b[0mdriver_command\u001b[0m\u001b[1;33m,\u001b[0m \u001b[0mparams\u001b[0m\u001b[1;33m)\u001b[0m\u001b[1;33m\u001b[0m\u001b[1;33m\u001b[0m\u001b[0m\n\u001b[0;32m    429\u001b[0m         \u001b[1;32mif\u001b[0m \u001b[0mresponse\u001b[0m\u001b[1;33m:\u001b[0m\u001b[1;33m\u001b[0m\u001b[1;33m\u001b[0m\u001b[0m\n\u001b[1;32m--> 430\u001b[1;33m             \u001b[0mself\u001b[0m\u001b[1;33m.\u001b[0m\u001b[0merror_handler\u001b[0m\u001b[1;33m.\u001b[0m\u001b[0mcheck_response\u001b[0m\u001b[1;33m(\u001b[0m\u001b[0mresponse\u001b[0m\u001b[1;33m)\u001b[0m\u001b[1;33m\u001b[0m\u001b[1;33m\u001b[0m\u001b[0m\n\u001b[0m\u001b[0;32m    431\u001b[0m             response['value'] = self._unwrap_value(\n\u001b[0;32m    432\u001b[0m                 response.get('value', None))\n",
      "\u001b[1;32m~\\anaconda3\\lib\\site-packages\\selenium\\webdriver\\remote\\errorhandler.py\u001b[0m in \u001b[0;36mcheck_response\u001b[1;34m(self, response)\u001b[0m\n\u001b[0;32m    245\u001b[0m                 \u001b[0malert_text\u001b[0m \u001b[1;33m=\u001b[0m \u001b[0mvalue\u001b[0m\u001b[1;33m[\u001b[0m\u001b[1;34m'alert'\u001b[0m\u001b[1;33m]\u001b[0m\u001b[1;33m.\u001b[0m\u001b[0mget\u001b[0m\u001b[1;33m(\u001b[0m\u001b[1;34m'text'\u001b[0m\u001b[1;33m)\u001b[0m\u001b[1;33m\u001b[0m\u001b[1;33m\u001b[0m\u001b[0m\n\u001b[0;32m    246\u001b[0m             \u001b[1;32mraise\u001b[0m \u001b[0mexception_class\u001b[0m\u001b[1;33m(\u001b[0m\u001b[0mmessage\u001b[0m\u001b[1;33m,\u001b[0m \u001b[0mscreen\u001b[0m\u001b[1;33m,\u001b[0m \u001b[0mstacktrace\u001b[0m\u001b[1;33m,\u001b[0m \u001b[0malert_text\u001b[0m\u001b[1;33m)\u001b[0m  \u001b[1;31m# type: ignore[call-arg]  # mypy is not smart enough here\u001b[0m\u001b[1;33m\u001b[0m\u001b[1;33m\u001b[0m\u001b[0m\n\u001b[1;32m--> 247\u001b[1;33m         \u001b[1;32mraise\u001b[0m \u001b[0mexception_class\u001b[0m\u001b[1;33m(\u001b[0m\u001b[0mmessage\u001b[0m\u001b[1;33m,\u001b[0m \u001b[0mscreen\u001b[0m\u001b[1;33m,\u001b[0m \u001b[0mstacktrace\u001b[0m\u001b[1;33m)\u001b[0m\u001b[1;33m\u001b[0m\u001b[1;33m\u001b[0m\u001b[0m\n\u001b[0m\u001b[0;32m    248\u001b[0m \u001b[1;33m\u001b[0m\u001b[0m\n\u001b[0;32m    249\u001b[0m     \u001b[1;32mdef\u001b[0m \u001b[0m_value_or_default\u001b[0m\u001b[1;33m(\u001b[0m\u001b[0mself\u001b[0m\u001b[1;33m,\u001b[0m \u001b[0mobj\u001b[0m\u001b[1;33m:\u001b[0m \u001b[0mMapping\u001b[0m\u001b[1;33m[\u001b[0m\u001b[0m_KT\u001b[0m\u001b[1;33m,\u001b[0m \u001b[0m_VT\u001b[0m\u001b[1;33m]\u001b[0m\u001b[1;33m,\u001b[0m \u001b[0mkey\u001b[0m\u001b[1;33m:\u001b[0m \u001b[0m_KT\u001b[0m\u001b[1;33m,\u001b[0m \u001b[0mdefault\u001b[0m\u001b[1;33m:\u001b[0m \u001b[0m_VT\u001b[0m\u001b[1;33m)\u001b[0m \u001b[1;33m->\u001b[0m \u001b[0m_VT\u001b[0m\u001b[1;33m:\u001b[0m\u001b[1;33m\u001b[0m\u001b[1;33m\u001b[0m\u001b[0m\n",
      "\u001b[1;31mWebDriverException\u001b[0m: Message: unknown error: net::ERR_NAME_NOT_RESOLVED\n  (Session info: chrome=107.0.5304.107)\nStacktrace:\nBacktrace:\n\tOrdinal0 [0x0046ACD3+2075859]\n\tOrdinal0 [0x003FEE61+1633889]\n\tOrdinal0 [0x002FB7BD+571325]\n\tOrdinal0 [0x002F7CD2+556242]\n\tOrdinal0 [0x002EEC5D+519261]\n\tOrdinal0 [0x002EFAEC+522988]\n\tOrdinal0 [0x002EEF27+519975]\n\tOrdinal0 [0x002EE2EB+516843]\n\tOrdinal0 [0x002EE231+516657]\n\tOrdinal0 [0x002ED0A3+512163]\n\tOrdinal0 [0x002ED5AD+513453]\n\tOrdinal0 [0x002FD0CE+577742]\n\tOrdinal0 [0x0035BC7D+965757]\n\tOrdinal0 [0x0034731C+881436]\n\tOrdinal0 [0x0035B56A+963946]\n\tOrdinal0 [0x00347136+880950]\n\tOrdinal0 [0x0031FEFD+720637]\n\tOrdinal0 [0x00320F3F+724799]\n\tGetHandleVerifier [0x0071EED2+2769538]\n\tGetHandleVerifier [0x00710D95+2711877]\n\tGetHandleVerifier [0x004FA03A+521194]\n\tGetHandleVerifier [0x004F8DA0+516432]\n\tOrdinal0 [0x0040682C+1665068]\n\tOrdinal0 [0x0040B128+1683752]\n\tOrdinal0 [0x0040B215+1683989]\n\tOrdinal0 [0x00416484+1729668]\n\tBaseThreadInitThunk [0x7582FA29+25]\n\tRtlGetAppContainerNamedObjectPath [0x778C7BBE+286]\n\tRtlGetAppContainerNamedObjectPath [0x778C7B8E+238]\n"
     ]
    }
   ],
   "source": [
    "for link in product_urls:\n",
    "    driver1.get(link)\n",
    "    \n",
    "    try:\n",
    "        for nam in driver1.find_elements_by_xpath(\"//span[@id='productTitle']\"):\n",
    "            name.append(nam.text)\n",
    "    except NoSuchElementException:\n",
    "            name.append('-')\n",
    "        \n",
    "    try:\n",
    "        for brands in driver1.find_element_by_xpath(\"/html/body/div[2]/div[2]/div[5]/div[4]/div[4]/div[44]/div/table/tbody/tr[1]/td[2]/span\"):\n",
    "            brand.append(brands.text)\n",
    "    except NoSuchElementException:\n",
    "            brand.append('-')\n",
    "        \n",
    "    try:\n",
    "        for pricee in driver1.find_element_by_xpath(\"/html/body/div[2]/div[2]/div[5]/div[4]/div[4]/div[11]/div[1]/div[1]/span[2]/span[2]/span[2]\"):\n",
    "            price.append(pricee.text)\n",
    "    except NoSuchElementException:\n",
    "            price.append('-')\n",
    "\n",
    "    try:\n",
    "        for exchang in driver1.find_element_by_xpath(\"/html/body/div[2]/div[2]/div[5]/div[4]/div[4]/div[23]/div[2]/div/div/div/div[2]/span/div[2]/a\"):\n",
    "            exchange.append(exchang.text)\n",
    "    except NoSuchElementException:\n",
    "            exchange.append('-')\n",
    "        \n",
    "    try:\n",
    "        for deliver in driver1.find_element_by_xpath(\"/html/body/div[2]/div[2]/div[5]/div[4]/div[4]/div[23]/div[2]/div/div/div/div[1]/div[2]/a\"):\n",
    "            delivery.append(deliver.text)\n",
    "    except NoSuchElementException:\n",
    "            delivery.append('-')\n",
    "        \n",
    "    try:\n",
    "        for available in driver1.find_elements_by_xpath(\"/html/body/div[2]/div[2]/div[5]/div[4]/div[1]/div[3]/div/div/div/div/form/div/div/div/div/div[3]/div/div[4]/div/div[1]/span\"):\n",
    "            availability.append(available.text)\n",
    "    except NoSuchElementException:\n",
    "            availability.append('-')\n",
    "        \n",
    "    try:\n",
    "        links.append(link)\n",
    "    except:\n",
    "        links.append('-')"
   ]
  },
  {
   "cell_type": "code",
   "execution_count": 59,
   "id": "601ad6d1",
   "metadata": {},
   "outputs": [],
   "source": [
    "Product_Detail=pd.DataFrame({\"Brand\":brand,\"Name\":name,\"Amount\":price,\"Return/Exchange\":exchange,\"Delivery\":delivery,\"Availability\":availability,\"Product Link\":links})"
   ]
  },
  {
   "cell_type": "code",
   "execution_count": 60,
   "id": "2970b8e1",
   "metadata": {
    "collapsed": true
   },
   "outputs": [
    {
     "ename": "WebDriverException",
     "evalue": "Message: unknown error: unexpected command response\n  (Session info: chrome=103.0.5060.114)\nStacktrace:\nBacktrace:\n\tOrdinal0 [0x009ED953+2414931]\n\tOrdinal0 [0x0097F5E1+1963489]\n\tOrdinal0 [0x0086C6B8+837304]\n\tOrdinal0 [0x0085EB34+781108]\n\tOrdinal0 [0x0085E06A+778346]\n\tOrdinal0 [0x0085D646+775750]\n\tOrdinal0 [0x0085CEBC+773820]\n\tOrdinal0 [0x0085CD59+773465]\n\tOrdinal0 [0x0086DA70+842352]\n\tOrdinal0 [0x008BAB6F+1157999]\n\tOrdinal0 [0x008B4463+1131619]\n\tOrdinal0 [0x0088E860+976992]\n\tOrdinal0 [0x0088F756+980822]\n\tGetHandleVerifier [0x00C5CC62+2510274]\n\tGetHandleVerifier [0x00C4F760+2455744]\n\tGetHandleVerifier [0x00A7EABA+551962]\n\tGetHandleVerifier [0x00A7D916+547446]\n\tOrdinal0 [0x00985F3B+1990459]\n\tOrdinal0 [0x0098A898+2009240]\n\tOrdinal0 [0x0098A985+2009477]\n\tOrdinal0 [0x00993AD1+2046673]\n\tBaseThreadInitThunk [0x7699FA29+25]\n\tRtlGetAppContainerNamedObjectPath [0x770F7A9E+286]\n\tRtlGetAppContainerNamedObjectPath [0x770F7A6E+238]\n",
     "output_type": "error",
     "traceback": [
      "\u001b[1;31m---------------------------------------------------------------------------\u001b[0m",
      "\u001b[1;31mWebDriverException\u001b[0m                        Traceback (most recent call last)",
      "\u001b[1;32m~\\AppData\\Local\\Temp/ipykernel_16092/3160365771.py\u001b[0m in \u001b[0;36m<module>\u001b[1;34m\u001b[0m\n\u001b[1;32m----> 1\u001b[1;33m \u001b[0mdriver1\u001b[0m\u001b[1;33m.\u001b[0m\u001b[0mclose\u001b[0m\u001b[1;33m(\u001b[0m\u001b[1;33m)\u001b[0m\u001b[1;33m\u001b[0m\u001b[1;33m\u001b[0m\u001b[0m\n\u001b[0m",
      "\u001b[1;32m~\\anaconda3\\lib\\site-packages\\selenium\\webdriver\\remote\\webdriver.py\u001b[0m in \u001b[0;36mclose\u001b[1;34m(self)\u001b[0m\n\u001b[0;32m    941\u001b[0m                 \u001b[0mdriver\u001b[0m\u001b[1;33m.\u001b[0m\u001b[0mclose\u001b[0m\u001b[1;33m(\u001b[0m\u001b[1;33m)\u001b[0m\u001b[1;33m\u001b[0m\u001b[1;33m\u001b[0m\u001b[0m\n\u001b[0;32m    942\u001b[0m         \"\"\"\n\u001b[1;32m--> 943\u001b[1;33m         \u001b[0mself\u001b[0m\u001b[1;33m.\u001b[0m\u001b[0mexecute\u001b[0m\u001b[1;33m(\u001b[0m\u001b[0mCommand\u001b[0m\u001b[1;33m.\u001b[0m\u001b[0mCLOSE\u001b[0m\u001b[1;33m)\u001b[0m\u001b[1;33m\u001b[0m\u001b[1;33m\u001b[0m\u001b[0m\n\u001b[0m\u001b[0;32m    944\u001b[0m \u001b[1;33m\u001b[0m\u001b[0m\n\u001b[0;32m    945\u001b[0m     \u001b[1;32mdef\u001b[0m \u001b[0mquit\u001b[0m\u001b[1;33m(\u001b[0m\u001b[0mself\u001b[0m\u001b[1;33m)\u001b[0m \u001b[1;33m->\u001b[0m \u001b[1;32mNone\u001b[0m\u001b[1;33m:\u001b[0m\u001b[1;33m\u001b[0m\u001b[1;33m\u001b[0m\u001b[0m\n",
      "\u001b[1;32m~\\anaconda3\\lib\\site-packages\\selenium\\webdriver\\remote\\webdriver.py\u001b[0m in \u001b[0;36mexecute\u001b[1;34m(self, driver_command, params)\u001b[0m\n\u001b[0;32m    428\u001b[0m         \u001b[0mresponse\u001b[0m \u001b[1;33m=\u001b[0m \u001b[0mself\u001b[0m\u001b[1;33m.\u001b[0m\u001b[0mcommand_executor\u001b[0m\u001b[1;33m.\u001b[0m\u001b[0mexecute\u001b[0m\u001b[1;33m(\u001b[0m\u001b[0mdriver_command\u001b[0m\u001b[1;33m,\u001b[0m \u001b[0mparams\u001b[0m\u001b[1;33m)\u001b[0m\u001b[1;33m\u001b[0m\u001b[1;33m\u001b[0m\u001b[0m\n\u001b[0;32m    429\u001b[0m         \u001b[1;32mif\u001b[0m \u001b[0mresponse\u001b[0m\u001b[1;33m:\u001b[0m\u001b[1;33m\u001b[0m\u001b[1;33m\u001b[0m\u001b[0m\n\u001b[1;32m--> 430\u001b[1;33m             \u001b[0mself\u001b[0m\u001b[1;33m.\u001b[0m\u001b[0merror_handler\u001b[0m\u001b[1;33m.\u001b[0m\u001b[0mcheck_response\u001b[0m\u001b[1;33m(\u001b[0m\u001b[0mresponse\u001b[0m\u001b[1;33m)\u001b[0m\u001b[1;33m\u001b[0m\u001b[1;33m\u001b[0m\u001b[0m\n\u001b[0m\u001b[0;32m    431\u001b[0m             response['value'] = self._unwrap_value(\n\u001b[0;32m    432\u001b[0m                 response.get('value', None))\n",
      "\u001b[1;32m~\\anaconda3\\lib\\site-packages\\selenium\\webdriver\\remote\\errorhandler.py\u001b[0m in \u001b[0;36mcheck_response\u001b[1;34m(self, response)\u001b[0m\n\u001b[0;32m    245\u001b[0m                 \u001b[0malert_text\u001b[0m \u001b[1;33m=\u001b[0m \u001b[0mvalue\u001b[0m\u001b[1;33m[\u001b[0m\u001b[1;34m'alert'\u001b[0m\u001b[1;33m]\u001b[0m\u001b[1;33m.\u001b[0m\u001b[0mget\u001b[0m\u001b[1;33m(\u001b[0m\u001b[1;34m'text'\u001b[0m\u001b[1;33m)\u001b[0m\u001b[1;33m\u001b[0m\u001b[1;33m\u001b[0m\u001b[0m\n\u001b[0;32m    246\u001b[0m             \u001b[1;32mraise\u001b[0m \u001b[0mexception_class\u001b[0m\u001b[1;33m(\u001b[0m\u001b[0mmessage\u001b[0m\u001b[1;33m,\u001b[0m \u001b[0mscreen\u001b[0m\u001b[1;33m,\u001b[0m \u001b[0mstacktrace\u001b[0m\u001b[1;33m,\u001b[0m \u001b[0malert_text\u001b[0m\u001b[1;33m)\u001b[0m  \u001b[1;31m# type: ignore[call-arg]  # mypy is not smart enough here\u001b[0m\u001b[1;33m\u001b[0m\u001b[1;33m\u001b[0m\u001b[0m\n\u001b[1;32m--> 247\u001b[1;33m         \u001b[1;32mraise\u001b[0m \u001b[0mexception_class\u001b[0m\u001b[1;33m(\u001b[0m\u001b[0mmessage\u001b[0m\u001b[1;33m,\u001b[0m \u001b[0mscreen\u001b[0m\u001b[1;33m,\u001b[0m \u001b[0mstacktrace\u001b[0m\u001b[1;33m)\u001b[0m\u001b[1;33m\u001b[0m\u001b[1;33m\u001b[0m\u001b[0m\n\u001b[0m\u001b[0;32m    248\u001b[0m \u001b[1;33m\u001b[0m\u001b[0m\n\u001b[0;32m    249\u001b[0m     \u001b[1;32mdef\u001b[0m \u001b[0m_value_or_default\u001b[0m\u001b[1;33m(\u001b[0m\u001b[0mself\u001b[0m\u001b[1;33m,\u001b[0m \u001b[0mobj\u001b[0m\u001b[1;33m:\u001b[0m \u001b[0mMapping\u001b[0m\u001b[1;33m[\u001b[0m\u001b[0m_KT\u001b[0m\u001b[1;33m,\u001b[0m \u001b[0m_VT\u001b[0m\u001b[1;33m]\u001b[0m\u001b[1;33m,\u001b[0m \u001b[0mkey\u001b[0m\u001b[1;33m:\u001b[0m \u001b[0m_KT\u001b[0m\u001b[1;33m,\u001b[0m \u001b[0mdefault\u001b[0m\u001b[1;33m:\u001b[0m \u001b[0m_VT\u001b[0m\u001b[1;33m)\u001b[0m \u001b[1;33m->\u001b[0m \u001b[0m_VT\u001b[0m\u001b[1;33m:\u001b[0m\u001b[1;33m\u001b[0m\u001b[1;33m\u001b[0m\u001b[0m\n",
      "\u001b[1;31mWebDriverException\u001b[0m: Message: unknown error: unexpected command response\n  (Session info: chrome=103.0.5060.114)\nStacktrace:\nBacktrace:\n\tOrdinal0 [0x009ED953+2414931]\n\tOrdinal0 [0x0097F5E1+1963489]\n\tOrdinal0 [0x0086C6B8+837304]\n\tOrdinal0 [0x0085EB34+781108]\n\tOrdinal0 [0x0085E06A+778346]\n\tOrdinal0 [0x0085D646+775750]\n\tOrdinal0 [0x0085CEBC+773820]\n\tOrdinal0 [0x0085CD59+773465]\n\tOrdinal0 [0x0086DA70+842352]\n\tOrdinal0 [0x008BAB6F+1157999]\n\tOrdinal0 [0x008B4463+1131619]\n\tOrdinal0 [0x0088E860+976992]\n\tOrdinal0 [0x0088F756+980822]\n\tGetHandleVerifier [0x00C5CC62+2510274]\n\tGetHandleVerifier [0x00C4F760+2455744]\n\tGetHandleVerifier [0x00A7EABA+551962]\n\tGetHandleVerifier [0x00A7D916+547446]\n\tOrdinal0 [0x00985F3B+1990459]\n\tOrdinal0 [0x0098A898+2009240]\n\tOrdinal0 [0x0098A985+2009477]\n\tOrdinal0 [0x00993AD1+2046673]\n\tBaseThreadInitThunk [0x7699FA29+25]\n\tRtlGetAppContainerNamedObjectPath [0x770F7A9E+286]\n\tRtlGetAppContainerNamedObjectPath [0x770F7A6E+238]\n"
     ]
    }
   ],
   "source": [
    "driver1.close()"
   ]
  },
  {
   "cell_type": "code",
   "execution_count": null,
   "id": "a4029ecf",
   "metadata": {},
   "outputs": [],
   "source": [
    "print(len(product1_rating))"
   ]
  },
  {
   "cell_type": "code",
   "execution_count": null,
   "id": "a49bf04c",
   "metadata": {},
   "outputs": [],
   "source": [
    "print(len(product1_price))"
   ]
  },
  {
   "cell_type": "code",
   "execution_count": null,
   "id": "1745d1a6",
   "metadata": {},
   "outputs": [],
   "source": [
    "print(len(product1_material))"
   ]
  },
  {
   "cell_type": "markdown",
   "id": "28d8d4b0",
   "metadata": {},
   "source": [
    "3. Write a python program to access the search bar and search button on images.google.com and scrape 10 images each for keywords ‘fruits’, ‘cars’ and ‘Machine Learning’, ‘Guitar’, ‘Cakes’."
   ]
  },
  {
   "cell_type": "code",
   "execution_count": 64,
   "id": "cf82c210",
   "metadata": {},
   "outputs": [],
   "source": [
    "driver3=webdriver.Chrome(r\"c:\\web driver\\chromedriver.exe\")\n",
    "url=\"http://images.google.com/\"\n",
    "driver3.get(url)"
   ]
  },
  {
   "cell_type": "code",
   "execution_count": 65,
   "id": "dbab602d",
   "metadata": {},
   "outputs": [],
   "source": [
    "def get_urls(keywords):\n",
    "        driver3.get(url)\n",
    "\n",
    "        # Locating the search bar and click search button\n",
    "        search_bar=driver3.find_element_by_xpath(\"//input[@class='gLFyf gsfi']\")\n",
    "        search_bar.send_keys(keywords)\n",
    "        button=driver3.find_element_by_xpath(\"//button[@class='Tg7LZd']\")\n",
    "        button.click()\n",
    "        time.sleep(3)\n",
    "        \n",
    "\n",
    "        urls=[]\n",
    "    \n",
    "        for i in driver3.find_elements_by_xpath(\"//a[@class='wXeWr islib nfEiy']/div/img\"):\n",
    "            try:\n",
    "                urls.append(i.get_attribute('src'))\n",
    "            except NoSuchElementException:\n",
    "                urls.append(\"-\")\n",
    "\n",
    "        for i in range(len(urls)):\n",
    "            if i >= 10:\n",
    "                break\n",
    "        print(\"Downloading {0} of {1} images\" .format(i, 10))\n",
    "        response= requests.get(urls[i])\n",
    "        file = open(r\"C:\\Users\\Hp\\Downloads\\url\"+str(i)+\".jpg\", \"wb\")\n",
    "        file.write(response.content)\n",
    "    "
   ]
  },
  {
   "cell_type": "code",
   "execution_count": 66,
   "id": "9bc0c3d2",
   "metadata": {
    "collapsed": true
   },
   "outputs": [
    {
     "name": "stdout",
     "output_type": "stream",
     "text": [
      "Downloading 10 of 10 images\n"
     ]
    },
    {
     "ename": "InvalidSchema",
     "evalue": "No connection adapters were found for 'data:image/jpeg;base64,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'",
     "output_type": "error",
     "traceback": [
      "\u001b[1;31m---------------------------------------------------------------------------\u001b[0m",
      "\u001b[1;31mInvalidSchema\u001b[0m                             Traceback (most recent call last)",
      "\u001b[1;32m~\\AppData\\Local\\Temp/ipykernel_16092/3336285277.py\u001b[0m in \u001b[0;36m<module>\u001b[1;34m\u001b[0m\n\u001b[1;32m----> 1\u001b[1;33m \u001b[0mFruit\u001b[0m\u001b[1;33m=\u001b[0m\u001b[0mget_urls\u001b[0m\u001b[1;33m(\u001b[0m\u001b[1;34m'fruits'\u001b[0m\u001b[1;33m)\u001b[0m\u001b[1;33m\u001b[0m\u001b[1;33m\u001b[0m\u001b[0m\n\u001b[0m\u001b[0;32m      2\u001b[0m \u001b[0mprint\u001b[0m\u001b[1;33m(\u001b[0m\u001b[0mFruit\u001b[0m\u001b[1;33m)\u001b[0m\u001b[1;33m\u001b[0m\u001b[1;33m\u001b[0m\u001b[0m\n",
      "\u001b[1;32m~\\AppData\\Local\\Temp/ipykernel_16092/1208658469.py\u001b[0m in \u001b[0;36mget_urls\u001b[1;34m(keywords)\u001b[0m\n\u001b[0;32m     22\u001b[0m                 \u001b[1;32mbreak\u001b[0m\u001b[1;33m\u001b[0m\u001b[1;33m\u001b[0m\u001b[0m\n\u001b[0;32m     23\u001b[0m         \u001b[0mprint\u001b[0m\u001b[1;33m(\u001b[0m\u001b[1;34m\"Downloading {0} of {1} images\"\u001b[0m \u001b[1;33m.\u001b[0m\u001b[0mformat\u001b[0m\u001b[1;33m(\u001b[0m\u001b[0mi\u001b[0m\u001b[1;33m,\u001b[0m \u001b[1;36m10\u001b[0m\u001b[1;33m)\u001b[0m\u001b[1;33m)\u001b[0m\u001b[1;33m\u001b[0m\u001b[1;33m\u001b[0m\u001b[0m\n\u001b[1;32m---> 24\u001b[1;33m         \u001b[0mresponse\u001b[0m\u001b[1;33m=\u001b[0m \u001b[0mrequests\u001b[0m\u001b[1;33m.\u001b[0m\u001b[0mget\u001b[0m\u001b[1;33m(\u001b[0m\u001b[0murls\u001b[0m\u001b[1;33m[\u001b[0m\u001b[0mi\u001b[0m\u001b[1;33m]\u001b[0m\u001b[1;33m)\u001b[0m\u001b[1;33m\u001b[0m\u001b[1;33m\u001b[0m\u001b[0m\n\u001b[0m\u001b[0;32m     25\u001b[0m         \u001b[0mfile\u001b[0m \u001b[1;33m=\u001b[0m \u001b[0mopen\u001b[0m\u001b[1;33m(\u001b[0m\u001b[1;34mr\"C:\\Users\\Hp\\Downloads\\url\"\u001b[0m\u001b[1;33m+\u001b[0m\u001b[0mstr\u001b[0m\u001b[1;33m(\u001b[0m\u001b[0mi\u001b[0m\u001b[1;33m)\u001b[0m\u001b[1;33m+\u001b[0m\u001b[1;34m\".jpg\"\u001b[0m\u001b[1;33m,\u001b[0m \u001b[1;34m\"wb\"\u001b[0m\u001b[1;33m)\u001b[0m\u001b[1;33m\u001b[0m\u001b[1;33m\u001b[0m\u001b[0m\n\u001b[0;32m     26\u001b[0m         \u001b[0mfile\u001b[0m\u001b[1;33m.\u001b[0m\u001b[0mwrite\u001b[0m\u001b[1;33m(\u001b[0m\u001b[0mresponse\u001b[0m\u001b[1;33m.\u001b[0m\u001b[0mcontent\u001b[0m\u001b[1;33m)\u001b[0m\u001b[1;33m\u001b[0m\u001b[1;33m\u001b[0m\u001b[0m\n",
      "\u001b[1;32m~\\anaconda3\\lib\\site-packages\\requests\\api.py\u001b[0m in \u001b[0;36mget\u001b[1;34m(url, params, **kwargs)\u001b[0m\n\u001b[0;32m     73\u001b[0m     \"\"\"\n\u001b[0;32m     74\u001b[0m \u001b[1;33m\u001b[0m\u001b[0m\n\u001b[1;32m---> 75\u001b[1;33m     \u001b[1;32mreturn\u001b[0m \u001b[0mrequest\u001b[0m\u001b[1;33m(\u001b[0m\u001b[1;34m'get'\u001b[0m\u001b[1;33m,\u001b[0m \u001b[0murl\u001b[0m\u001b[1;33m,\u001b[0m \u001b[0mparams\u001b[0m\u001b[1;33m=\u001b[0m\u001b[0mparams\u001b[0m\u001b[1;33m,\u001b[0m \u001b[1;33m**\u001b[0m\u001b[0mkwargs\u001b[0m\u001b[1;33m)\u001b[0m\u001b[1;33m\u001b[0m\u001b[1;33m\u001b[0m\u001b[0m\n\u001b[0m\u001b[0;32m     76\u001b[0m \u001b[1;33m\u001b[0m\u001b[0m\n\u001b[0;32m     77\u001b[0m \u001b[1;33m\u001b[0m\u001b[0m\n",
      "\u001b[1;32m~\\anaconda3\\lib\\site-packages\\requests\\api.py\u001b[0m in \u001b[0;36mrequest\u001b[1;34m(method, url, **kwargs)\u001b[0m\n\u001b[0;32m     59\u001b[0m     \u001b[1;31m# cases, and look like a memory leak in others.\u001b[0m\u001b[1;33m\u001b[0m\u001b[1;33m\u001b[0m\u001b[1;33m\u001b[0m\u001b[0m\n\u001b[0;32m     60\u001b[0m     \u001b[1;32mwith\u001b[0m \u001b[0msessions\u001b[0m\u001b[1;33m.\u001b[0m\u001b[0mSession\u001b[0m\u001b[1;33m(\u001b[0m\u001b[1;33m)\u001b[0m \u001b[1;32mas\u001b[0m \u001b[0msession\u001b[0m\u001b[1;33m:\u001b[0m\u001b[1;33m\u001b[0m\u001b[1;33m\u001b[0m\u001b[0m\n\u001b[1;32m---> 61\u001b[1;33m         \u001b[1;32mreturn\u001b[0m \u001b[0msession\u001b[0m\u001b[1;33m.\u001b[0m\u001b[0mrequest\u001b[0m\u001b[1;33m(\u001b[0m\u001b[0mmethod\u001b[0m\u001b[1;33m=\u001b[0m\u001b[0mmethod\u001b[0m\u001b[1;33m,\u001b[0m \u001b[0murl\u001b[0m\u001b[1;33m=\u001b[0m\u001b[0murl\u001b[0m\u001b[1;33m,\u001b[0m \u001b[1;33m**\u001b[0m\u001b[0mkwargs\u001b[0m\u001b[1;33m)\u001b[0m\u001b[1;33m\u001b[0m\u001b[1;33m\u001b[0m\u001b[0m\n\u001b[0m\u001b[0;32m     62\u001b[0m \u001b[1;33m\u001b[0m\u001b[0m\n\u001b[0;32m     63\u001b[0m \u001b[1;33m\u001b[0m\u001b[0m\n",
      "\u001b[1;32m~\\anaconda3\\lib\\site-packages\\requests\\sessions.py\u001b[0m in \u001b[0;36mrequest\u001b[1;34m(self, method, url, params, data, headers, cookies, files, auth, timeout, allow_redirects, proxies, hooks, stream, verify, cert, json)\u001b[0m\n\u001b[0;32m    540\u001b[0m         }\n\u001b[0;32m    541\u001b[0m         \u001b[0msend_kwargs\u001b[0m\u001b[1;33m.\u001b[0m\u001b[0mupdate\u001b[0m\u001b[1;33m(\u001b[0m\u001b[0msettings\u001b[0m\u001b[1;33m)\u001b[0m\u001b[1;33m\u001b[0m\u001b[1;33m\u001b[0m\u001b[0m\n\u001b[1;32m--> 542\u001b[1;33m         \u001b[0mresp\u001b[0m \u001b[1;33m=\u001b[0m \u001b[0mself\u001b[0m\u001b[1;33m.\u001b[0m\u001b[0msend\u001b[0m\u001b[1;33m(\u001b[0m\u001b[0mprep\u001b[0m\u001b[1;33m,\u001b[0m \u001b[1;33m**\u001b[0m\u001b[0msend_kwargs\u001b[0m\u001b[1;33m)\u001b[0m\u001b[1;33m\u001b[0m\u001b[1;33m\u001b[0m\u001b[0m\n\u001b[0m\u001b[0;32m    543\u001b[0m \u001b[1;33m\u001b[0m\u001b[0m\n\u001b[0;32m    544\u001b[0m         \u001b[1;32mreturn\u001b[0m \u001b[0mresp\u001b[0m\u001b[1;33m\u001b[0m\u001b[1;33m\u001b[0m\u001b[0m\n",
      "\u001b[1;32m~\\anaconda3\\lib\\site-packages\\requests\\sessions.py\u001b[0m in \u001b[0;36msend\u001b[1;34m(self, request, **kwargs)\u001b[0m\n\u001b[0;32m    647\u001b[0m \u001b[1;33m\u001b[0m\u001b[0m\n\u001b[0;32m    648\u001b[0m         \u001b[1;31m# Get the appropriate adapter to use\u001b[0m\u001b[1;33m\u001b[0m\u001b[1;33m\u001b[0m\u001b[1;33m\u001b[0m\u001b[0m\n\u001b[1;32m--> 649\u001b[1;33m         \u001b[0madapter\u001b[0m \u001b[1;33m=\u001b[0m \u001b[0mself\u001b[0m\u001b[1;33m.\u001b[0m\u001b[0mget_adapter\u001b[0m\u001b[1;33m(\u001b[0m\u001b[0murl\u001b[0m\u001b[1;33m=\u001b[0m\u001b[0mrequest\u001b[0m\u001b[1;33m.\u001b[0m\u001b[0murl\u001b[0m\u001b[1;33m)\u001b[0m\u001b[1;33m\u001b[0m\u001b[1;33m\u001b[0m\u001b[0m\n\u001b[0m\u001b[0;32m    650\u001b[0m \u001b[1;33m\u001b[0m\u001b[0m\n\u001b[0;32m    651\u001b[0m         \u001b[1;31m# Start time (approximately) of the request\u001b[0m\u001b[1;33m\u001b[0m\u001b[1;33m\u001b[0m\u001b[1;33m\u001b[0m\u001b[0m\n",
      "\u001b[1;32m~\\anaconda3\\lib\\site-packages\\requests\\sessions.py\u001b[0m in \u001b[0;36mget_adapter\u001b[1;34m(self, url)\u001b[0m\n\u001b[0;32m    740\u001b[0m \u001b[1;33m\u001b[0m\u001b[0m\n\u001b[0;32m    741\u001b[0m         \u001b[1;31m# Nothing matches :-/\u001b[0m\u001b[1;33m\u001b[0m\u001b[1;33m\u001b[0m\u001b[1;33m\u001b[0m\u001b[0m\n\u001b[1;32m--> 742\u001b[1;33m         \u001b[1;32mraise\u001b[0m \u001b[0mInvalidSchema\u001b[0m\u001b[1;33m(\u001b[0m\u001b[1;34m\"No connection adapters were found for {!r}\"\u001b[0m\u001b[1;33m.\u001b[0m\u001b[0mformat\u001b[0m\u001b[1;33m(\u001b[0m\u001b[0murl\u001b[0m\u001b[1;33m)\u001b[0m\u001b[1;33m)\u001b[0m\u001b[1;33m\u001b[0m\u001b[1;33m\u001b[0m\u001b[0m\n\u001b[0m\u001b[0;32m    743\u001b[0m \u001b[1;33m\u001b[0m\u001b[0m\n\u001b[0;32m    744\u001b[0m     \u001b[1;32mdef\u001b[0m \u001b[0mclose\u001b[0m\u001b[1;33m(\u001b[0m\u001b[0mself\u001b[0m\u001b[1;33m)\u001b[0m\u001b[1;33m:\u001b[0m\u001b[1;33m\u001b[0m\u001b[1;33m\u001b[0m\u001b[0m\n",
      "\u001b[1;31mInvalidSchema\u001b[0m: No connection adapters were found for 'data:image/jpeg;base64,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'"
     ]
    }
   ],
   "source": [
    "Fruit=get_urls('fruits')\n",
    "print(Fruit)"
   ]
  },
  {
   "cell_type": "code",
   "execution_count": 67,
   "id": "399da279",
   "metadata": {
    "collapsed": true
   },
   "outputs": [
    {
     "name": "stdout",
     "output_type": "stream",
     "text": [
      "Downloading 10 of 10 images\n"
     ]
    },
    {
     "ename": "InvalidSchema",
     "evalue": "No connection adapters were found for 'data:image/jpeg;base64,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'",
     "output_type": "error",
     "traceback": [
      "\u001b[1;31m---------------------------------------------------------------------------\u001b[0m",
      "\u001b[1;31mInvalidSchema\u001b[0m                             Traceback (most recent call last)",
      "\u001b[1;32m~\\AppData\\Local\\Temp/ipykernel_16092/295392297.py\u001b[0m in \u001b[0;36m<module>\u001b[1;34m\u001b[0m\n\u001b[1;32m----> 1\u001b[1;33m \u001b[0mImages\u001b[0m\u001b[1;33m=\u001b[0m\u001b[0mpd\u001b[0m\u001b[1;33m.\u001b[0m\u001b[0mDataFrame\u001b[0m\u001b[1;33m(\u001b[0m\u001b[1;33m{\u001b[0m\u001b[1;34m\"Fruit\"\u001b[0m\u001b[1;33m:\u001b[0m\u001b[0mget_urls\u001b[0m\u001b[1;33m(\u001b[0m\u001b[1;34m'fruits'\u001b[0m\u001b[1;33m)\u001b[0m\u001b[1;33m,\u001b[0m \u001b[1;34m\"Car\"\u001b[0m\u001b[1;33m:\u001b[0m\u001b[0mget_urls\u001b[0m\u001b[1;33m(\u001b[0m\u001b[1;34m'car'\u001b[0m\u001b[1;33m)\u001b[0m\u001b[1;33m,\u001b[0m \u001b[1;34m\"Machine\"\u001b[0m\u001b[1;33m:\u001b[0m\u001b[0mget_urls\u001b[0m\u001b[1;33m(\u001b[0m\u001b[1;34m'machine'\u001b[0m\u001b[1;33m)\u001b[0m\u001b[1;33m,\u001b[0m \u001b[1;34m\"Guitar\"\u001b[0m\u001b[1;33m:\u001b[0m\u001b[0mget_urls\u001b[0m\u001b[1;33m(\u001b[0m\u001b[1;34m'guitar'\u001b[0m\u001b[1;33m)\u001b[0m\u001b[1;33m,\u001b[0m \u001b[1;34m\"Cake\"\u001b[0m\u001b[1;33m:\u001b[0m\u001b[0mget_urls\u001b[0m\u001b[1;33m(\u001b[0m\u001b[0mcake\u001b[0m\u001b[1;33m)\u001b[0m\u001b[1;33m}\u001b[0m\u001b[1;33m)\u001b[0m\u001b[1;33m\u001b[0m\u001b[1;33m\u001b[0m\u001b[0m\n\u001b[0m\u001b[0;32m      2\u001b[0m \u001b[0mImages\u001b[0m\u001b[1;33m\u001b[0m\u001b[1;33m\u001b[0m\u001b[0m\n",
      "\u001b[1;32m~\\AppData\\Local\\Temp/ipykernel_16092/1208658469.py\u001b[0m in \u001b[0;36mget_urls\u001b[1;34m(keywords)\u001b[0m\n\u001b[0;32m     22\u001b[0m                 \u001b[1;32mbreak\u001b[0m\u001b[1;33m\u001b[0m\u001b[1;33m\u001b[0m\u001b[0m\n\u001b[0;32m     23\u001b[0m         \u001b[0mprint\u001b[0m\u001b[1;33m(\u001b[0m\u001b[1;34m\"Downloading {0} of {1} images\"\u001b[0m \u001b[1;33m.\u001b[0m\u001b[0mformat\u001b[0m\u001b[1;33m(\u001b[0m\u001b[0mi\u001b[0m\u001b[1;33m,\u001b[0m \u001b[1;36m10\u001b[0m\u001b[1;33m)\u001b[0m\u001b[1;33m)\u001b[0m\u001b[1;33m\u001b[0m\u001b[1;33m\u001b[0m\u001b[0m\n\u001b[1;32m---> 24\u001b[1;33m         \u001b[0mresponse\u001b[0m\u001b[1;33m=\u001b[0m \u001b[0mrequests\u001b[0m\u001b[1;33m.\u001b[0m\u001b[0mget\u001b[0m\u001b[1;33m(\u001b[0m\u001b[0murls\u001b[0m\u001b[1;33m[\u001b[0m\u001b[0mi\u001b[0m\u001b[1;33m]\u001b[0m\u001b[1;33m)\u001b[0m\u001b[1;33m\u001b[0m\u001b[1;33m\u001b[0m\u001b[0m\n\u001b[0m\u001b[0;32m     25\u001b[0m         \u001b[0mfile\u001b[0m \u001b[1;33m=\u001b[0m \u001b[0mopen\u001b[0m\u001b[1;33m(\u001b[0m\u001b[1;34mr\"C:\\Users\\Hp\\Downloads\\url\"\u001b[0m\u001b[1;33m+\u001b[0m\u001b[0mstr\u001b[0m\u001b[1;33m(\u001b[0m\u001b[0mi\u001b[0m\u001b[1;33m)\u001b[0m\u001b[1;33m+\u001b[0m\u001b[1;34m\".jpg\"\u001b[0m\u001b[1;33m,\u001b[0m \u001b[1;34m\"wb\"\u001b[0m\u001b[1;33m)\u001b[0m\u001b[1;33m\u001b[0m\u001b[1;33m\u001b[0m\u001b[0m\n\u001b[0;32m     26\u001b[0m         \u001b[0mfile\u001b[0m\u001b[1;33m.\u001b[0m\u001b[0mwrite\u001b[0m\u001b[1;33m(\u001b[0m\u001b[0mresponse\u001b[0m\u001b[1;33m.\u001b[0m\u001b[0mcontent\u001b[0m\u001b[1;33m)\u001b[0m\u001b[1;33m\u001b[0m\u001b[1;33m\u001b[0m\u001b[0m\n",
      "\u001b[1;32m~\\anaconda3\\lib\\site-packages\\requests\\api.py\u001b[0m in \u001b[0;36mget\u001b[1;34m(url, params, **kwargs)\u001b[0m\n\u001b[0;32m     73\u001b[0m     \"\"\"\n\u001b[0;32m     74\u001b[0m \u001b[1;33m\u001b[0m\u001b[0m\n\u001b[1;32m---> 75\u001b[1;33m     \u001b[1;32mreturn\u001b[0m \u001b[0mrequest\u001b[0m\u001b[1;33m(\u001b[0m\u001b[1;34m'get'\u001b[0m\u001b[1;33m,\u001b[0m \u001b[0murl\u001b[0m\u001b[1;33m,\u001b[0m \u001b[0mparams\u001b[0m\u001b[1;33m=\u001b[0m\u001b[0mparams\u001b[0m\u001b[1;33m,\u001b[0m \u001b[1;33m**\u001b[0m\u001b[0mkwargs\u001b[0m\u001b[1;33m)\u001b[0m\u001b[1;33m\u001b[0m\u001b[1;33m\u001b[0m\u001b[0m\n\u001b[0m\u001b[0;32m     76\u001b[0m \u001b[1;33m\u001b[0m\u001b[0m\n\u001b[0;32m     77\u001b[0m \u001b[1;33m\u001b[0m\u001b[0m\n",
      "\u001b[1;32m~\\anaconda3\\lib\\site-packages\\requests\\api.py\u001b[0m in \u001b[0;36mrequest\u001b[1;34m(method, url, **kwargs)\u001b[0m\n\u001b[0;32m     59\u001b[0m     \u001b[1;31m# cases, and look like a memory leak in others.\u001b[0m\u001b[1;33m\u001b[0m\u001b[1;33m\u001b[0m\u001b[1;33m\u001b[0m\u001b[0m\n\u001b[0;32m     60\u001b[0m     \u001b[1;32mwith\u001b[0m \u001b[0msessions\u001b[0m\u001b[1;33m.\u001b[0m\u001b[0mSession\u001b[0m\u001b[1;33m(\u001b[0m\u001b[1;33m)\u001b[0m \u001b[1;32mas\u001b[0m \u001b[0msession\u001b[0m\u001b[1;33m:\u001b[0m\u001b[1;33m\u001b[0m\u001b[1;33m\u001b[0m\u001b[0m\n\u001b[1;32m---> 61\u001b[1;33m         \u001b[1;32mreturn\u001b[0m \u001b[0msession\u001b[0m\u001b[1;33m.\u001b[0m\u001b[0mrequest\u001b[0m\u001b[1;33m(\u001b[0m\u001b[0mmethod\u001b[0m\u001b[1;33m=\u001b[0m\u001b[0mmethod\u001b[0m\u001b[1;33m,\u001b[0m \u001b[0murl\u001b[0m\u001b[1;33m=\u001b[0m\u001b[0murl\u001b[0m\u001b[1;33m,\u001b[0m \u001b[1;33m**\u001b[0m\u001b[0mkwargs\u001b[0m\u001b[1;33m)\u001b[0m\u001b[1;33m\u001b[0m\u001b[1;33m\u001b[0m\u001b[0m\n\u001b[0m\u001b[0;32m     62\u001b[0m \u001b[1;33m\u001b[0m\u001b[0m\n\u001b[0;32m     63\u001b[0m \u001b[1;33m\u001b[0m\u001b[0m\n",
      "\u001b[1;32m~\\anaconda3\\lib\\site-packages\\requests\\sessions.py\u001b[0m in \u001b[0;36mrequest\u001b[1;34m(self, method, url, params, data, headers, cookies, files, auth, timeout, allow_redirects, proxies, hooks, stream, verify, cert, json)\u001b[0m\n\u001b[0;32m    540\u001b[0m         }\n\u001b[0;32m    541\u001b[0m         \u001b[0msend_kwargs\u001b[0m\u001b[1;33m.\u001b[0m\u001b[0mupdate\u001b[0m\u001b[1;33m(\u001b[0m\u001b[0msettings\u001b[0m\u001b[1;33m)\u001b[0m\u001b[1;33m\u001b[0m\u001b[1;33m\u001b[0m\u001b[0m\n\u001b[1;32m--> 542\u001b[1;33m         \u001b[0mresp\u001b[0m \u001b[1;33m=\u001b[0m \u001b[0mself\u001b[0m\u001b[1;33m.\u001b[0m\u001b[0msend\u001b[0m\u001b[1;33m(\u001b[0m\u001b[0mprep\u001b[0m\u001b[1;33m,\u001b[0m \u001b[1;33m**\u001b[0m\u001b[0msend_kwargs\u001b[0m\u001b[1;33m)\u001b[0m\u001b[1;33m\u001b[0m\u001b[1;33m\u001b[0m\u001b[0m\n\u001b[0m\u001b[0;32m    543\u001b[0m \u001b[1;33m\u001b[0m\u001b[0m\n\u001b[0;32m    544\u001b[0m         \u001b[1;32mreturn\u001b[0m \u001b[0mresp\u001b[0m\u001b[1;33m\u001b[0m\u001b[1;33m\u001b[0m\u001b[0m\n",
      "\u001b[1;32m~\\anaconda3\\lib\\site-packages\\requests\\sessions.py\u001b[0m in \u001b[0;36msend\u001b[1;34m(self, request, **kwargs)\u001b[0m\n\u001b[0;32m    647\u001b[0m \u001b[1;33m\u001b[0m\u001b[0m\n\u001b[0;32m    648\u001b[0m         \u001b[1;31m# Get the appropriate adapter to use\u001b[0m\u001b[1;33m\u001b[0m\u001b[1;33m\u001b[0m\u001b[1;33m\u001b[0m\u001b[0m\n\u001b[1;32m--> 649\u001b[1;33m         \u001b[0madapter\u001b[0m \u001b[1;33m=\u001b[0m \u001b[0mself\u001b[0m\u001b[1;33m.\u001b[0m\u001b[0mget_adapter\u001b[0m\u001b[1;33m(\u001b[0m\u001b[0murl\u001b[0m\u001b[1;33m=\u001b[0m\u001b[0mrequest\u001b[0m\u001b[1;33m.\u001b[0m\u001b[0murl\u001b[0m\u001b[1;33m)\u001b[0m\u001b[1;33m\u001b[0m\u001b[1;33m\u001b[0m\u001b[0m\n\u001b[0m\u001b[0;32m    650\u001b[0m \u001b[1;33m\u001b[0m\u001b[0m\n\u001b[0;32m    651\u001b[0m         \u001b[1;31m# Start time (approximately) of the request\u001b[0m\u001b[1;33m\u001b[0m\u001b[1;33m\u001b[0m\u001b[1;33m\u001b[0m\u001b[0m\n",
      "\u001b[1;32m~\\anaconda3\\lib\\site-packages\\requests\\sessions.py\u001b[0m in \u001b[0;36mget_adapter\u001b[1;34m(self, url)\u001b[0m\n\u001b[0;32m    740\u001b[0m \u001b[1;33m\u001b[0m\u001b[0m\n\u001b[0;32m    741\u001b[0m         \u001b[1;31m# Nothing matches :-/\u001b[0m\u001b[1;33m\u001b[0m\u001b[1;33m\u001b[0m\u001b[1;33m\u001b[0m\u001b[0m\n\u001b[1;32m--> 742\u001b[1;33m         \u001b[1;32mraise\u001b[0m \u001b[0mInvalidSchema\u001b[0m\u001b[1;33m(\u001b[0m\u001b[1;34m\"No connection adapters were found for {!r}\"\u001b[0m\u001b[1;33m.\u001b[0m\u001b[0mformat\u001b[0m\u001b[1;33m(\u001b[0m\u001b[0murl\u001b[0m\u001b[1;33m)\u001b[0m\u001b[1;33m)\u001b[0m\u001b[1;33m\u001b[0m\u001b[1;33m\u001b[0m\u001b[0m\n\u001b[0m\u001b[0;32m    743\u001b[0m \u001b[1;33m\u001b[0m\u001b[0m\n\u001b[0;32m    744\u001b[0m     \u001b[1;32mdef\u001b[0m \u001b[0mclose\u001b[0m\u001b[1;33m(\u001b[0m\u001b[0mself\u001b[0m\u001b[1;33m)\u001b[0m\u001b[1;33m:\u001b[0m\u001b[1;33m\u001b[0m\u001b[1;33m\u001b[0m\u001b[0m\n",
      "\u001b[1;31mInvalidSchema\u001b[0m: No connection adapters were found for 'data:image/jpeg;base64,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'"
     ]
    }
   ],
   "source": [
    "Images=pd.DataFrame({\"Fruit\":get_urls('fruits'), \"Car\":get_urls('car'), \"Machine\":get_urls('machine'), \"Guitar\":get_urls('guitar'), \"Cake\":get_urls(cake)})\n",
    "Images"
   ]
  },
  {
   "cell_type": "code",
   "execution_count": 68,
   "id": "a95d5147",
   "metadata": {},
   "outputs": [],
   "source": [
    "driver3.close()"
   ]
  },
  {
   "cell_type": "markdown",
   "id": "4c54ccc6",
   "metadata": {},
   "source": [
    "------------------------complete----------------\n",
    "\n",
    "4. Write a python program to search for a smartphone(e.g.: Oneplus Nord, pixel 4A, etc.) on www.flipkart.com and scrape following details for all the search results displayed on 1st page. Details to be scraped: “Brand Name”, “Smartphone name”, “Colour”, “RAM”, “Storage(ROM)”, “Primary Camera”, “Secondary Camera”, “Display Size”, “Battery Capacity”, “Price”, “Product URL”. Incase if any of the details is missing then replace it by “- “. Save your results in a dataframe and CSV."
   ]
  },
  {
   "cell_type": "code",
   "execution_count": null,
   "id": "5de2c32e",
   "metadata": {},
   "outputs": [],
   "source": [
    "driver4=webdriver.Chrome(\"chromedriver.exe\")\n",
    "driver4.get(\"http://www.flipkart.com/\")\n",
    "close=driver4.find_element_by_xpath(\"//button[@class='_2KpZ6l _2doB4z']\").click()\n",
    "\n",
    "search_bar4=driver4.find_element_by_xpath(\"//input[@class='_3704LK']\")\n",
    "search_bar4.send_keys(\"phone\")\n",
    "search_button4=driver4.find_element_by_xpath(\"//button[@class='L0Z3Pu']\")\n",
    "search_button4.click()"
   ]
  },
  {
   "cell_type": "code",
   "execution_count": null,
   "id": "69063b2b",
   "metadata": {},
   "outputs": [],
   "source": [
    "brand=[]\n",
    "model_name=[]\n",
    "color=[]\n",
    "ram=[]\n",
    "storage=[]\n",
    "fcam=[]\n",
    "rcam=[]\n",
    "display=[]\n",
    "battery=[]\n",
    "price=[]\n",
    "url=[]"
   ]
  },
  {
   "cell_type": "code",
   "execution_count": null,
   "id": "45a18720",
   "metadata": {},
   "outputs": [],
   "source": [
    "link=driver4.find_elements_by_xpath(\"//div[@class='_2kHMtA']/a\")\n",
    "for i in link:\n",
    "    url.append(i.get_attribute('href'))"
   ]
  },
  {
   "cell_type": "code",
   "execution_count": null,
   "id": "d04c7d38",
   "metadata": {},
   "outputs": [],
   "source": [
    "for i in url:\n",
    "    driver4.get(i)\n",
    "\n",
    "    time.sleep(10)\n",
    "    driver4.find_element_by_xpath(\"//button[@class='_2KpZ6l _1FH0tX']\").click()\n",
    "\n",
    "#brand    \n",
    "    try:\n",
    "        brd=driver4.find_element_by_xpath('//span[@class=\"B_NuCI\"]').text.split()\n",
    "        brand.append(brd[0])\n",
    "    except:\n",
    "        brand.append(\"-\")\n",
    "#name        \n",
    "    try:\n",
    "        name=driver4.find_element_by_xpath(\"//div[@class='_1UhVsV']/div[1]/table/tbody/tr[3]/td[2]\").text\n",
    "        model_name.append(name)\n",
    "    except:\n",
    "        model_name.append(\"-\")\n",
    "        \n",
    "#color\n",
    "    try:\n",
    "        col=driver4.find_element_by_xpath(\"/html/body/div[1]/div/div[3]/div[1]/div[2]/div[9]/div[5]/div/div[2]/div[1]/div[1]/table/tbody/tr[4]/td[2]/ul/li\").text\n",
    "        color.append(col)\n",
    "    except:\n",
    "        color.append(\"-\")\n",
    "#ram\n",
    "    try:\n",
    "        rm=driver4.find_element_by_xpath(\"/html/body/div[1]/div/div[3]/div[1]/div[2]/div[9]/div[5]/div/div[2]/div[1]/div[4]/table/tbody/tr[2]/td[2]/ul/li\").text\n",
    "        ram.append(rm)\n",
    "    except:\n",
    "        ram.append(\"-\")\n",
    "#storage\n",
    "    try:\n",
    "        str=driver4.find_element_by_xpath(\"/html/body/div[1]/div/div[3]/div[1]/div[2]/div[9]/div[5]/div/div[2]/div[1]/div[4]/table/tbody/tr[1]/td[2]/ul/li\").text\n",
    "        storage.append(str)\n",
    "    except:\n",
    "        storage.append(\"-\")\n",
    "#front\n",
    "    try:\n",
    "        cam=driver4.find_element_by_xpath(\"/html/body/div[1]/div/div[3]/div[1]/div[2]/div[9]/div[4]/div/div[2]/div[1]/div[5]/table/tbody/tr[2]/td[2]/ul/li\").text\n",
    "        fcam.append(cam)\n",
    "    except:\n",
    "        fcam.append(\"-\")\n",
    "#rear\n",
    "    try:\n",
    "        came=driver4.find_element_by_xpath(\"/html/body/div[1]/div/div[3]/div[1]/div[2]/div[8]/div[4]/div/div[2]/div[1]/div[5]/table/tbody/tr[3]/td[2]/ul/li\").text\n",
    "        rcam.append(came)        \n",
    "    except:\n",
    "        rcam.append(\"-\")\n",
    "#dispaly\n",
    "    try:\n",
    "        dis=driver4.find_element_by_xpath(\"/html/body/div[1]/div/div[3]/div[1]/div[2]/div[8]/div[4]/div/div[2]/div[1]/div[2]/table/tbody/tr[1]/td[2]/ul/li\").text\n",
    "        display.append(dis)\n",
    "    except:\n",
    "        display.append(\"-\")\n",
    "#battery\n",
    "    try:\n",
    "        batt=driver4.find_element_by_xpath(\"/html/body/div[1]/div/div[3]/div[1]/div[2]/div[8]/div[4]/div/div[2]/div[1]/div[10]/table/tbody/tr/td[2]/ul/li\").text\n",
    "        battery.append(batt)\n",
    "    except:\n",
    "        battery.append(\"-\")\n",
    "#price\n",
    "    try:\n",
    "        pric=driver4.find_element_by_xpath(\"/html/body/div[1]/div/div[3]/div[1]/div[2]/div[8]/div[4]/div/div[2]/div[1]/div[10]/table/tbody/tr/td[2]/ul/li\").text\n",
    "        price.append(pric)\n",
    "    except:\n",
    "        price.append(\"-\")\n",
    "    "
   ]
  },
  {
   "cell_type": "code",
   "execution_count": null,
   "id": "1ab5e221",
   "metadata": {},
   "outputs": [],
   "source": [
    "Smartphone=pd.DataFrame({\"Brand\":brand,\"Model\":model_name,\"Color\":color,\"Ram\":ram,\"Storage\":storage,\"Front Camera\":fcam,\"Rear Camera\":rcam,\"Display\":display,\"Battery\":battery,\"Price\":price})\n",
    "Smartphone"
   ]
  },
  {
   "cell_type": "code",
   "execution_count": null,
   "id": "d35ff5da",
   "metadata": {},
   "outputs": [],
   "source": [
    "driver4.close()"
   ]
  },
  {
   "cell_type": "markdown",
   "id": "a6897320",
   "metadata": {},
   "source": [
    "--------------------------Complete-------------------------------------------\n",
    "\n",
    "5. Write a program to scrap geospatial coordinates (latitude, longitude) of a city searched on google maps."
   ]
  },
  {
   "cell_type": "code",
   "execution_count": null,
   "id": "52c7a3f6",
   "metadata": {},
   "outputs": [],
   "source": [
    "driver5=webdriver.Chrome(\"chromedriver.exe\")\n",
    "driver5.get(\"https://www.google.com/maps\")"
   ]
  },
  {
   "cell_type": "code",
   "execution_count": null,
   "id": "1c90e920",
   "metadata": {},
   "outputs": [],
   "source": [
    "city=input(\"Enter City Name:\")\n",
    "time.sleep(5)\n",
    "search_bar=driver5.find_element_by_xpath(\"//input[@class='tactile-searchbox-input']\")\n",
    "search_bar.send_keys(city)\n",
    "search_button=driver5.find_element_by_xpath(\"//button[@class='hArJGc']\").click()"
   ]
  },
  {
   "cell_type": "code",
   "execution_count": null,
   "id": "128e3a2c",
   "metadata": {},
   "outputs": [],
   "source": [
    "current_url=driver5.current_url\n",
    "print(current_url)"
   ]
  },
  {
   "cell_type": "code",
   "execution_count": null,
   "id": "6318fe06",
   "metadata": {},
   "outputs": [],
   "source": [
    "latitude=current_url.split(\"@\")[1].split(\",\")[0]\n",
    "longitude=current_url.split(\"@\")[1].split(\",\")[1]\n",
    "print(\"Latitude :\", latitude)\n",
    "print(\"Longitude :\", longitude)"
   ]
  },
  {
   "cell_type": "code",
   "execution_count": null,
   "id": "0b35b240",
   "metadata": {},
   "outputs": [],
   "source": [
    "driver5.close()"
   ]
  },
  {
   "cell_type": "markdown",
   "id": "652af4c0",
   "metadata": {},
   "source": [
    "6. Write a program to scrap details of all the funding deals for second quarter (i.e Jan 21 – March 21) from trak.in."
   ]
  },
  {
   "cell_type": "code",
   "execution_count": 71,
   "id": "1c1af687",
   "metadata": {},
   "outputs": [],
   "source": [
    "driver6=webdriver.Chrome(\"chromedriver.exe\")\n",
    "driver6.get(\"https://trak.in/\")"
   ]
  },
  {
   "cell_type": "code",
   "execution_count": 72,
   "id": "9c9d6b95",
   "metadata": {},
   "outputs": [],
   "source": [
    "driver6.maximize_window()"
   ]
  },
  {
   "cell_type": "code",
   "execution_count": 74,
   "id": "c83cb2b8",
   "metadata": {},
   "outputs": [],
   "source": [
    "driver6.find_element_by_xpath(\"/html/body/div[2]/div[1]/div[2]/div[1]/ul[1]/li[9]/a\").click()"
   ]
  },
  {
   "cell_type": "code",
   "execution_count": 75,
   "id": "3264ed47",
   "metadata": {
    "collapsed": true
   },
   "outputs": [
    {
     "ename": "NoSuchElementException",
     "evalue": "Message: no such element: Unable to locate element: {\"method\":\"xpath\",\"selector\":\"/html/body/div[1]/div[2]/div[2]/div/div/div/div/div[1]\"}\n  (Session info: chrome=103.0.5060.114)\nStacktrace:\nBacktrace:\n\tOrdinal0 [0x00CBD953+2414931]\n\tOrdinal0 [0x00C4F5E1+1963489]\n\tOrdinal0 [0x00B3C6B8+837304]\n\tOrdinal0 [0x00B69500+1021184]\n\tOrdinal0 [0x00B6979B+1021851]\n\tOrdinal0 [0x00B96502+1205506]\n\tOrdinal0 [0x00B844E4+1131748]\n\tOrdinal0 [0x00B94812+1198098]\n\tOrdinal0 [0x00B842B6+1131190]\n\tOrdinal0 [0x00B5E860+976992]\n\tOrdinal0 [0x00B5F756+980822]\n\tGetHandleVerifier [0x00F2CC62+2510274]\n\tGetHandleVerifier [0x00F1F760+2455744]\n\tGetHandleVerifier [0x00D4EABA+551962]\n\tGetHandleVerifier [0x00D4D916+547446]\n\tOrdinal0 [0x00C55F3B+1990459]\n\tOrdinal0 [0x00C5A898+2009240]\n\tOrdinal0 [0x00C5A985+2009477]\n\tOrdinal0 [0x00C63AD1+2046673]\n\tBaseThreadInitThunk [0x7699FA29+25]\n\tRtlGetAppContainerNamedObjectPath [0x770F7A9E+286]\n\tRtlGetAppContainerNamedObjectPath [0x770F7A6E+238]\n",
     "output_type": "error",
     "traceback": [
      "\u001b[1;31m---------------------------------------------------------------------------\u001b[0m",
      "\u001b[1;31mNoSuchElementException\u001b[0m                    Traceback (most recent call last)",
      "\u001b[1;32m~\\AppData\\Local\\Temp/ipykernel_16092/1312429697.py\u001b[0m in \u001b[0;36m<module>\u001b[1;34m\u001b[0m\n\u001b[0;32m      2\u001b[0m \u001b[0mdriver6\u001b[0m\u001b[1;33m.\u001b[0m\u001b[0mget\u001b[0m\u001b[1;33m(\u001b[0m\u001b[0mfunding\u001b[0m\u001b[1;33m)\u001b[0m\u001b[1;33m\u001b[0m\u001b[1;33m\u001b[0m\u001b[0m\n\u001b[0;32m      3\u001b[0m \u001b[1;33m\u001b[0m\u001b[0m\n\u001b[1;32m----> 4\u001b[1;33m \u001b[0mdriver6\u001b[0m\u001b[1;33m.\u001b[0m\u001b[0mfind_element_by_xpath\u001b[0m\u001b[1;33m(\u001b[0m\u001b[1;34m\"/html/body/div[1]/div[2]/div[2]/div/div/div/div/div[1]\"\u001b[0m\u001b[1;33m)\u001b[0m\u001b[1;33m.\u001b[0m\u001b[0mclick\u001b[0m\u001b[1;33m\u001b[0m\u001b[1;33m\u001b[0m\u001b[0m\n\u001b[0m",
      "\u001b[1;32m~\\anaconda3\\lib\\site-packages\\selenium\\webdriver\\remote\\webdriver.py\u001b[0m in \u001b[0;36mfind_element_by_xpath\u001b[1;34m(self, xpath)\u001b[0m\n\u001b[0;32m    524\u001b[0m             \u001b[0mstacklevel\u001b[0m\u001b[1;33m=\u001b[0m\u001b[1;36m2\u001b[0m\u001b[1;33m,\u001b[0m\u001b[1;33m\u001b[0m\u001b[1;33m\u001b[0m\u001b[0m\n\u001b[0;32m    525\u001b[0m         )\n\u001b[1;32m--> 526\u001b[1;33m         \u001b[1;32mreturn\u001b[0m \u001b[0mself\u001b[0m\u001b[1;33m.\u001b[0m\u001b[0mfind_element\u001b[0m\u001b[1;33m(\u001b[0m\u001b[0mby\u001b[0m\u001b[1;33m=\u001b[0m\u001b[0mBy\u001b[0m\u001b[1;33m.\u001b[0m\u001b[0mXPATH\u001b[0m\u001b[1;33m,\u001b[0m \u001b[0mvalue\u001b[0m\u001b[1;33m=\u001b[0m\u001b[0mxpath\u001b[0m\u001b[1;33m)\u001b[0m\u001b[1;33m\u001b[0m\u001b[1;33m\u001b[0m\u001b[0m\n\u001b[0m\u001b[0;32m    527\u001b[0m \u001b[1;33m\u001b[0m\u001b[0m\n\u001b[0;32m    528\u001b[0m     \u001b[1;32mdef\u001b[0m \u001b[0mfind_elements_by_xpath\u001b[0m\u001b[1;33m(\u001b[0m\u001b[0mself\u001b[0m\u001b[1;33m,\u001b[0m \u001b[0mxpath\u001b[0m\u001b[1;33m)\u001b[0m \u001b[1;33m->\u001b[0m \u001b[0mList\u001b[0m\u001b[1;33m[\u001b[0m\u001b[0mWebElement\u001b[0m\u001b[1;33m]\u001b[0m\u001b[1;33m:\u001b[0m\u001b[1;33m\u001b[0m\u001b[1;33m\u001b[0m\u001b[0m\n",
      "\u001b[1;32m~\\anaconda3\\lib\\site-packages\\selenium\\webdriver\\remote\\webdriver.py\u001b[0m in \u001b[0;36mfind_element\u001b[1;34m(self, by, value)\u001b[0m\n\u001b[0;32m   1249\u001b[0m             \u001b[0mvalue\u001b[0m \u001b[1;33m=\u001b[0m \u001b[1;34m'[name=\"%s\"]'\u001b[0m \u001b[1;33m%\u001b[0m \u001b[0mvalue\u001b[0m\u001b[1;33m\u001b[0m\u001b[1;33m\u001b[0m\u001b[0m\n\u001b[0;32m   1250\u001b[0m \u001b[1;33m\u001b[0m\u001b[0m\n\u001b[1;32m-> 1251\u001b[1;33m         return self.execute(Command.FIND_ELEMENT, {\n\u001b[0m\u001b[0;32m   1252\u001b[0m             \u001b[1;34m'using'\u001b[0m\u001b[1;33m:\u001b[0m \u001b[0mby\u001b[0m\u001b[1;33m,\u001b[0m\u001b[1;33m\u001b[0m\u001b[1;33m\u001b[0m\u001b[0m\n\u001b[0;32m   1253\u001b[0m             'value': value})['value']\n",
      "\u001b[1;32m~\\anaconda3\\lib\\site-packages\\selenium\\webdriver\\remote\\webdriver.py\u001b[0m in \u001b[0;36mexecute\u001b[1;34m(self, driver_command, params)\u001b[0m\n\u001b[0;32m    428\u001b[0m         \u001b[0mresponse\u001b[0m \u001b[1;33m=\u001b[0m \u001b[0mself\u001b[0m\u001b[1;33m.\u001b[0m\u001b[0mcommand_executor\u001b[0m\u001b[1;33m.\u001b[0m\u001b[0mexecute\u001b[0m\u001b[1;33m(\u001b[0m\u001b[0mdriver_command\u001b[0m\u001b[1;33m,\u001b[0m \u001b[0mparams\u001b[0m\u001b[1;33m)\u001b[0m\u001b[1;33m\u001b[0m\u001b[1;33m\u001b[0m\u001b[0m\n\u001b[0;32m    429\u001b[0m         \u001b[1;32mif\u001b[0m \u001b[0mresponse\u001b[0m\u001b[1;33m:\u001b[0m\u001b[1;33m\u001b[0m\u001b[1;33m\u001b[0m\u001b[0m\n\u001b[1;32m--> 430\u001b[1;33m             \u001b[0mself\u001b[0m\u001b[1;33m.\u001b[0m\u001b[0merror_handler\u001b[0m\u001b[1;33m.\u001b[0m\u001b[0mcheck_response\u001b[0m\u001b[1;33m(\u001b[0m\u001b[0mresponse\u001b[0m\u001b[1;33m)\u001b[0m\u001b[1;33m\u001b[0m\u001b[1;33m\u001b[0m\u001b[0m\n\u001b[0m\u001b[0;32m    431\u001b[0m             response['value'] = self._unwrap_value(\n\u001b[0;32m    432\u001b[0m                 response.get('value', None))\n",
      "\u001b[1;32m~\\anaconda3\\lib\\site-packages\\selenium\\webdriver\\remote\\errorhandler.py\u001b[0m in \u001b[0;36mcheck_response\u001b[1;34m(self, response)\u001b[0m\n\u001b[0;32m    245\u001b[0m                 \u001b[0malert_text\u001b[0m \u001b[1;33m=\u001b[0m \u001b[0mvalue\u001b[0m\u001b[1;33m[\u001b[0m\u001b[1;34m'alert'\u001b[0m\u001b[1;33m]\u001b[0m\u001b[1;33m.\u001b[0m\u001b[0mget\u001b[0m\u001b[1;33m(\u001b[0m\u001b[1;34m'text'\u001b[0m\u001b[1;33m)\u001b[0m\u001b[1;33m\u001b[0m\u001b[1;33m\u001b[0m\u001b[0m\n\u001b[0;32m    246\u001b[0m             \u001b[1;32mraise\u001b[0m \u001b[0mexception_class\u001b[0m\u001b[1;33m(\u001b[0m\u001b[0mmessage\u001b[0m\u001b[1;33m,\u001b[0m \u001b[0mscreen\u001b[0m\u001b[1;33m,\u001b[0m \u001b[0mstacktrace\u001b[0m\u001b[1;33m,\u001b[0m \u001b[0malert_text\u001b[0m\u001b[1;33m)\u001b[0m  \u001b[1;31m# type: ignore[call-arg]  # mypy is not smart enough here\u001b[0m\u001b[1;33m\u001b[0m\u001b[1;33m\u001b[0m\u001b[0m\n\u001b[1;32m--> 247\u001b[1;33m         \u001b[1;32mraise\u001b[0m \u001b[0mexception_class\u001b[0m\u001b[1;33m(\u001b[0m\u001b[0mmessage\u001b[0m\u001b[1;33m,\u001b[0m \u001b[0mscreen\u001b[0m\u001b[1;33m,\u001b[0m \u001b[0mstacktrace\u001b[0m\u001b[1;33m)\u001b[0m\u001b[1;33m\u001b[0m\u001b[1;33m\u001b[0m\u001b[0m\n\u001b[0m\u001b[0;32m    248\u001b[0m \u001b[1;33m\u001b[0m\u001b[0m\n\u001b[0;32m    249\u001b[0m     \u001b[1;32mdef\u001b[0m \u001b[0m_value_or_default\u001b[0m\u001b[1;33m(\u001b[0m\u001b[0mself\u001b[0m\u001b[1;33m,\u001b[0m \u001b[0mobj\u001b[0m\u001b[1;33m:\u001b[0m \u001b[0mMapping\u001b[0m\u001b[1;33m[\u001b[0m\u001b[0m_KT\u001b[0m\u001b[1;33m,\u001b[0m \u001b[0m_VT\u001b[0m\u001b[1;33m]\u001b[0m\u001b[1;33m,\u001b[0m \u001b[0mkey\u001b[0m\u001b[1;33m:\u001b[0m \u001b[0m_KT\u001b[0m\u001b[1;33m,\u001b[0m \u001b[0mdefault\u001b[0m\u001b[1;33m:\u001b[0m \u001b[0m_VT\u001b[0m\u001b[1;33m)\u001b[0m \u001b[1;33m->\u001b[0m \u001b[0m_VT\u001b[0m\u001b[1;33m:\u001b[0m\u001b[1;33m\u001b[0m\u001b[1;33m\u001b[0m\u001b[0m\n",
      "\u001b[1;31mNoSuchElementException\u001b[0m: Message: no such element: Unable to locate element: {\"method\":\"xpath\",\"selector\":\"/html/body/div[1]/div[2]/div[2]/div/div/div/div/div[1]\"}\n  (Session info: chrome=103.0.5060.114)\nStacktrace:\nBacktrace:\n\tOrdinal0 [0x00CBD953+2414931]\n\tOrdinal0 [0x00C4F5E1+1963489]\n\tOrdinal0 [0x00B3C6B8+837304]\n\tOrdinal0 [0x00B69500+1021184]\n\tOrdinal0 [0x00B6979B+1021851]\n\tOrdinal0 [0x00B96502+1205506]\n\tOrdinal0 [0x00B844E4+1131748]\n\tOrdinal0 [0x00B94812+1198098]\n\tOrdinal0 [0x00B842B6+1131190]\n\tOrdinal0 [0x00B5E860+976992]\n\tOrdinal0 [0x00B5F756+980822]\n\tGetHandleVerifier [0x00F2CC62+2510274]\n\tGetHandleVerifier [0x00F1F760+2455744]\n\tGetHandleVerifier [0x00D4EABA+551962]\n\tGetHandleVerifier [0x00D4D916+547446]\n\tOrdinal0 [0x00C55F3B+1990459]\n\tOrdinal0 [0x00C5A898+2009240]\n\tOrdinal0 [0x00C5A985+2009477]\n\tOrdinal0 [0x00C63AD1+2046673]\n\tBaseThreadInitThunk [0x7699FA29+25]\n\tRtlGetAppContainerNamedObjectPath [0x770F7A9E+286]\n\tRtlGetAppContainerNamedObjectPath [0x770F7A6E+238]\n"
     ]
    }
   ],
   "source": [
    "funding=driver6.find_element_by_xpath(\"//li[@id='menu-item-51510']/a\").get_attribute('href')\n",
    "driver6.get(funding)\n",
    "\n",
    "driver6.find_element_by_xpath(\"/html/body/div[1]/div[2]/div[2]/div/div/div/div/div[1]\").click"
   ]
  },
  {
   "cell_type": "code",
   "execution_count": 76,
   "id": "463cbdfd",
   "metadata": {},
   "outputs": [],
   "source": [
    "driver6.close()"
   ]
  },
  {
   "cell_type": "markdown",
   "id": "a74b6e11",
   "metadata": {},
   "source": [
    "7. Write a program to scrap all the available details of best gaming laptops from digit.in."
   ]
  },
  {
   "cell_type": "code",
   "execution_count": 79,
   "id": "9132b11b",
   "metadata": {},
   "outputs": [],
   "source": [
    "driver7=webdriver.Chrome(\"Chromedriver.exe\")\n",
    "time.sleep(1)\n",
    "driver7.get(\"https://www.digit.in/\")\n",
    "driver7.maximize_window()"
   ]
  },
  {
   "cell_type": "code",
   "execution_count": 85,
   "id": "91fe2c53",
   "metadata": {
    "collapsed": true
   },
   "outputs": [
    {
     "ename": "WebDriverException",
     "evalue": "Message: unknown error: unexpected command response\n  (Session info: chrome=103.0.5060.114)\nStacktrace:\nBacktrace:\n\tOrdinal0 [0x00CBD953+2414931]\n\tOrdinal0 [0x00C4F5E1+1963489]\n\tOrdinal0 [0x00B3C6B8+837304]\n\tOrdinal0 [0x00B2EB34+781108]\n\tOrdinal0 [0x00B2E06A+778346]\n\tOrdinal0 [0x00B2D646+775750]\n\tOrdinal0 [0x00B2CEBC+773820]\n\tOrdinal0 [0x00B2CD59+773465]\n\tOrdinal0 [0x00B3DA70+842352]\n\tOrdinal0 [0x00B940DB+1196251]\n\tOrdinal0 [0x00B842B6+1131190]\n\tOrdinal0 [0x00B5E860+976992]\n\tOrdinal0 [0x00B5F756+980822]\n\tGetHandleVerifier [0x00F2CC62+2510274]\n\tGetHandleVerifier [0x00F1F760+2455744]\n\tGetHandleVerifier [0x00D4EABA+551962]\n\tGetHandleVerifier [0x00D4D916+547446]\n\tOrdinal0 [0x00C55F3B+1990459]\n\tOrdinal0 [0x00C5A898+2009240]\n\tOrdinal0 [0x00C5A985+2009477]\n\tOrdinal0 [0x00C63AD1+2046673]\n\tBaseThreadInitThunk [0x7699FA29+25]\n\tRtlGetAppContainerNamedObjectPath [0x770F7A9E+286]\n\tRtlGetAppContainerNamedObjectPath [0x770F7A6E+238]\n",
     "output_type": "error",
     "traceback": [
      "\u001b[1;31m---------------------------------------------------------------------------\u001b[0m",
      "\u001b[1;31mWebDriverException\u001b[0m                        Traceback (most recent call last)",
      "\u001b[1;32m~\\AppData\\Local\\Temp/ipykernel_16092/780088642.py\u001b[0m in \u001b[0;36m<module>\u001b[1;34m\u001b[0m\n\u001b[1;32m----> 1\u001b[1;33m \u001b[0msearch\u001b[0m\u001b[1;33m=\u001b[0m\u001b[0mdriver7\u001b[0m\u001b[1;33m.\u001b[0m\u001b[0mfind_element_by_xpath\u001b[0m\u001b[1;33m(\u001b[0m\u001b[1;34m\"/html/body/div[1]/div/div[4]/ul/li[3]/a\"\u001b[0m\u001b[1;33m)\u001b[0m\u001b[1;33m\u001b[0m\u001b[1;33m\u001b[0m\u001b[0m\n\u001b[0m\u001b[0;32m      2\u001b[0m \u001b[0msearch\u001b[0m\u001b[1;33m.\u001b[0m\u001b[0mclick\u001b[0m\u001b[1;33m(\u001b[0m\u001b[1;33m)\u001b[0m\u001b[1;33m\u001b[0m\u001b[1;33m\u001b[0m\u001b[0m\n\u001b[0;32m      3\u001b[0m \u001b[0msearch_field_designation\u001b[0m\u001b[1;33m=\u001b[0m\u001b[0mdriver7\u001b[0m\u001b[1;33m.\u001b[0m\u001b[0mfind_element_by_xpath\u001b[0m\u001b[1;33m(\u001b[0m\u001b[1;34m\"/html/body/div[2]/div[2]/div/div/input\"\u001b[0m\u001b[1;33m)\u001b[0m\u001b[1;33m\u001b[0m\u001b[1;33m\u001b[0m\u001b[0m\n\u001b[0;32m      4\u001b[0m \u001b[0msearch_field_designation\u001b[0m\u001b[1;33m.\u001b[0m\u001b[0msend_keys\u001b[0m\u001b[1;33m(\u001b[0m\u001b[1;34m'Best Gaming Laptop'\u001b[0m\u001b[1;33m)\u001b[0m\u001b[1;33m\u001b[0m\u001b[1;33m\u001b[0m\u001b[0m\n\u001b[0;32m      5\u001b[0m \u001b[1;33m\u001b[0m\u001b[0m\n",
      "\u001b[1;32m~\\anaconda3\\lib\\site-packages\\selenium\\webdriver\\remote\\webdriver.py\u001b[0m in \u001b[0;36mfind_element_by_xpath\u001b[1;34m(self, xpath)\u001b[0m\n\u001b[0;32m    524\u001b[0m             \u001b[0mstacklevel\u001b[0m\u001b[1;33m=\u001b[0m\u001b[1;36m2\u001b[0m\u001b[1;33m,\u001b[0m\u001b[1;33m\u001b[0m\u001b[1;33m\u001b[0m\u001b[0m\n\u001b[0;32m    525\u001b[0m         )\n\u001b[1;32m--> 526\u001b[1;33m         \u001b[1;32mreturn\u001b[0m \u001b[0mself\u001b[0m\u001b[1;33m.\u001b[0m\u001b[0mfind_element\u001b[0m\u001b[1;33m(\u001b[0m\u001b[0mby\u001b[0m\u001b[1;33m=\u001b[0m\u001b[0mBy\u001b[0m\u001b[1;33m.\u001b[0m\u001b[0mXPATH\u001b[0m\u001b[1;33m,\u001b[0m \u001b[0mvalue\u001b[0m\u001b[1;33m=\u001b[0m\u001b[0mxpath\u001b[0m\u001b[1;33m)\u001b[0m\u001b[1;33m\u001b[0m\u001b[1;33m\u001b[0m\u001b[0m\n\u001b[0m\u001b[0;32m    527\u001b[0m \u001b[1;33m\u001b[0m\u001b[0m\n\u001b[0;32m    528\u001b[0m     \u001b[1;32mdef\u001b[0m \u001b[0mfind_elements_by_xpath\u001b[0m\u001b[1;33m(\u001b[0m\u001b[0mself\u001b[0m\u001b[1;33m,\u001b[0m \u001b[0mxpath\u001b[0m\u001b[1;33m)\u001b[0m \u001b[1;33m->\u001b[0m \u001b[0mList\u001b[0m\u001b[1;33m[\u001b[0m\u001b[0mWebElement\u001b[0m\u001b[1;33m]\u001b[0m\u001b[1;33m:\u001b[0m\u001b[1;33m\u001b[0m\u001b[1;33m\u001b[0m\u001b[0m\n",
      "\u001b[1;32m~\\anaconda3\\lib\\site-packages\\selenium\\webdriver\\remote\\webdriver.py\u001b[0m in \u001b[0;36mfind_element\u001b[1;34m(self, by, value)\u001b[0m\n\u001b[0;32m   1249\u001b[0m             \u001b[0mvalue\u001b[0m \u001b[1;33m=\u001b[0m \u001b[1;34m'[name=\"%s\"]'\u001b[0m \u001b[1;33m%\u001b[0m \u001b[0mvalue\u001b[0m\u001b[1;33m\u001b[0m\u001b[1;33m\u001b[0m\u001b[0m\n\u001b[0;32m   1250\u001b[0m \u001b[1;33m\u001b[0m\u001b[0m\n\u001b[1;32m-> 1251\u001b[1;33m         return self.execute(Command.FIND_ELEMENT, {\n\u001b[0m\u001b[0;32m   1252\u001b[0m             \u001b[1;34m'using'\u001b[0m\u001b[1;33m:\u001b[0m \u001b[0mby\u001b[0m\u001b[1;33m,\u001b[0m\u001b[1;33m\u001b[0m\u001b[1;33m\u001b[0m\u001b[0m\n\u001b[0;32m   1253\u001b[0m             'value': value})['value']\n",
      "\u001b[1;32m~\\anaconda3\\lib\\site-packages\\selenium\\webdriver\\remote\\webdriver.py\u001b[0m in \u001b[0;36mexecute\u001b[1;34m(self, driver_command, params)\u001b[0m\n\u001b[0;32m    428\u001b[0m         \u001b[0mresponse\u001b[0m \u001b[1;33m=\u001b[0m \u001b[0mself\u001b[0m\u001b[1;33m.\u001b[0m\u001b[0mcommand_executor\u001b[0m\u001b[1;33m.\u001b[0m\u001b[0mexecute\u001b[0m\u001b[1;33m(\u001b[0m\u001b[0mdriver_command\u001b[0m\u001b[1;33m,\u001b[0m \u001b[0mparams\u001b[0m\u001b[1;33m)\u001b[0m\u001b[1;33m\u001b[0m\u001b[1;33m\u001b[0m\u001b[0m\n\u001b[0;32m    429\u001b[0m         \u001b[1;32mif\u001b[0m \u001b[0mresponse\u001b[0m\u001b[1;33m:\u001b[0m\u001b[1;33m\u001b[0m\u001b[1;33m\u001b[0m\u001b[0m\n\u001b[1;32m--> 430\u001b[1;33m             \u001b[0mself\u001b[0m\u001b[1;33m.\u001b[0m\u001b[0merror_handler\u001b[0m\u001b[1;33m.\u001b[0m\u001b[0mcheck_response\u001b[0m\u001b[1;33m(\u001b[0m\u001b[0mresponse\u001b[0m\u001b[1;33m)\u001b[0m\u001b[1;33m\u001b[0m\u001b[1;33m\u001b[0m\u001b[0m\n\u001b[0m\u001b[0;32m    431\u001b[0m             response['value'] = self._unwrap_value(\n\u001b[0;32m    432\u001b[0m                 response.get('value', None))\n",
      "\u001b[1;32m~\\anaconda3\\lib\\site-packages\\selenium\\webdriver\\remote\\errorhandler.py\u001b[0m in \u001b[0;36mcheck_response\u001b[1;34m(self, response)\u001b[0m\n\u001b[0;32m    245\u001b[0m                 \u001b[0malert_text\u001b[0m \u001b[1;33m=\u001b[0m \u001b[0mvalue\u001b[0m\u001b[1;33m[\u001b[0m\u001b[1;34m'alert'\u001b[0m\u001b[1;33m]\u001b[0m\u001b[1;33m.\u001b[0m\u001b[0mget\u001b[0m\u001b[1;33m(\u001b[0m\u001b[1;34m'text'\u001b[0m\u001b[1;33m)\u001b[0m\u001b[1;33m\u001b[0m\u001b[1;33m\u001b[0m\u001b[0m\n\u001b[0;32m    246\u001b[0m             \u001b[1;32mraise\u001b[0m \u001b[0mexception_class\u001b[0m\u001b[1;33m(\u001b[0m\u001b[0mmessage\u001b[0m\u001b[1;33m,\u001b[0m \u001b[0mscreen\u001b[0m\u001b[1;33m,\u001b[0m \u001b[0mstacktrace\u001b[0m\u001b[1;33m,\u001b[0m \u001b[0malert_text\u001b[0m\u001b[1;33m)\u001b[0m  \u001b[1;31m# type: ignore[call-arg]  # mypy is not smart enough here\u001b[0m\u001b[1;33m\u001b[0m\u001b[1;33m\u001b[0m\u001b[0m\n\u001b[1;32m--> 247\u001b[1;33m         \u001b[1;32mraise\u001b[0m \u001b[0mexception_class\u001b[0m\u001b[1;33m(\u001b[0m\u001b[0mmessage\u001b[0m\u001b[1;33m,\u001b[0m \u001b[0mscreen\u001b[0m\u001b[1;33m,\u001b[0m \u001b[0mstacktrace\u001b[0m\u001b[1;33m)\u001b[0m\u001b[1;33m\u001b[0m\u001b[1;33m\u001b[0m\u001b[0m\n\u001b[0m\u001b[0;32m    248\u001b[0m \u001b[1;33m\u001b[0m\u001b[0m\n\u001b[0;32m    249\u001b[0m     \u001b[1;32mdef\u001b[0m \u001b[0m_value_or_default\u001b[0m\u001b[1;33m(\u001b[0m\u001b[0mself\u001b[0m\u001b[1;33m,\u001b[0m \u001b[0mobj\u001b[0m\u001b[1;33m:\u001b[0m \u001b[0mMapping\u001b[0m\u001b[1;33m[\u001b[0m\u001b[0m_KT\u001b[0m\u001b[1;33m,\u001b[0m \u001b[0m_VT\u001b[0m\u001b[1;33m]\u001b[0m\u001b[1;33m,\u001b[0m \u001b[0mkey\u001b[0m\u001b[1;33m:\u001b[0m \u001b[0m_KT\u001b[0m\u001b[1;33m,\u001b[0m \u001b[0mdefault\u001b[0m\u001b[1;33m:\u001b[0m \u001b[0m_VT\u001b[0m\u001b[1;33m)\u001b[0m \u001b[1;33m->\u001b[0m \u001b[0m_VT\u001b[0m\u001b[1;33m:\u001b[0m\u001b[1;33m\u001b[0m\u001b[1;33m\u001b[0m\u001b[0m\n",
      "\u001b[1;31mWebDriverException\u001b[0m: Message: unknown error: unexpected command response\n  (Session info: chrome=103.0.5060.114)\nStacktrace:\nBacktrace:\n\tOrdinal0 [0x00CBD953+2414931]\n\tOrdinal0 [0x00C4F5E1+1963489]\n\tOrdinal0 [0x00B3C6B8+837304]\n\tOrdinal0 [0x00B2EB34+781108]\n\tOrdinal0 [0x00B2E06A+778346]\n\tOrdinal0 [0x00B2D646+775750]\n\tOrdinal0 [0x00B2CEBC+773820]\n\tOrdinal0 [0x00B2CD59+773465]\n\tOrdinal0 [0x00B3DA70+842352]\n\tOrdinal0 [0x00B940DB+1196251]\n\tOrdinal0 [0x00B842B6+1131190]\n\tOrdinal0 [0x00B5E860+976992]\n\tOrdinal0 [0x00B5F756+980822]\n\tGetHandleVerifier [0x00F2CC62+2510274]\n\tGetHandleVerifier [0x00F1F760+2455744]\n\tGetHandleVerifier [0x00D4EABA+551962]\n\tGetHandleVerifier [0x00D4D916+547446]\n\tOrdinal0 [0x00C55F3B+1990459]\n\tOrdinal0 [0x00C5A898+2009240]\n\tOrdinal0 [0x00C5A985+2009477]\n\tOrdinal0 [0x00C63AD1+2046673]\n\tBaseThreadInitThunk [0x7699FA29+25]\n\tRtlGetAppContainerNamedObjectPath [0x770F7A9E+286]\n\tRtlGetAppContainerNamedObjectPath [0x770F7A6E+238]\n"
     ]
    }
   ],
   "source": [
    "search=driver7.find_element_by_xpath(\"/html/body/div[1]/div/div[4]/ul/li[3]/a\")\n",
    "search.click()\n",
    "search_field_designation=driver7.find_element_by_xpath(\"/html/body/div[2]/div[2]/div/div/input\")\n",
    "search_field_designation.send_keys('Best Gaming Laptop')\n",
    "\n",
    "search_button=driver7.find_element_by_xpath(\"/html/body/div[2]/div[2]/div/div/input\")\n",
    "search_button.click()\n",
    "search_button.send_keys(u'\\ue007')"
   ]
  },
  {
   "cell_type": "code",
   "execution_count": null,
   "id": "c6383cb0",
   "metadata": {},
   "outputs": [],
   "source": [
    "url=[]"
   ]
  },
  {
   "cell_type": "code",
   "execution_count": null,
   "id": "107c97c3",
   "metadata": {},
   "outputs": [],
   "source": [
    "for i in driver7.find_elements_by_xpath(\"//div[@class='searchPage']/a\"):\n",
    "    url.append(i.get_attribute('href'))"
   ]
  },
  {
   "cell_type": "code",
   "execution_count": null,
   "id": "bb41d568",
   "metadata": {},
   "outputs": [],
   "source": [
    "print(url)"
   ]
  },
  {
   "cell_type": "code",
   "execution_count": null,
   "id": "5462b326",
   "metadata": {},
   "outputs": [],
   "source": [
    "marketstat=[]\n",
    "os=[]\n",
    "released=[]\n",
    "display=[]\n",
    "processor=[]\n",
    "website=[]\n",
    "price=[]\n"
   ]
  },
  {
   "cell_type": "code",
   "execution_count": null,
   "id": "4e21029f",
   "metadata": {},
   "outputs": [],
   "source": [
    "for i in url:\n",
    "    driver7.get(i)\n",
    "    \n",
    "    try:\n",
    "        text=driver7.find_element_by_xpath(\"//div[@class='heading-wraper']/h1\")\n",
    "        marketstat.append(text)\n",
    "    except NoSuchElementException:\n",
    "        marketstat.append(\"-\")"
   ]
  },
  {
   "cell_type": "code",
   "execution_count": null,
   "id": "b57ed219",
   "metadata": {},
   "outputs": [],
   "source": [
    "df=pd.DataFrame({\"Name\":marketstat})\n",
    "df"
   ]
  },
  {
   "cell_type": "code",
   "execution_count": 86,
   "id": "644c6d0a",
   "metadata": {
    "collapsed": true
   },
   "outputs": [
    {
     "ename": "WebDriverException",
     "evalue": "Message: unknown error: unexpected command response\n  (Session info: chrome=103.0.5060.114)\nStacktrace:\nBacktrace:\n\tOrdinal0 [0x00CBD953+2414931]\n\tOrdinal0 [0x00C4F5E1+1963489]\n\tOrdinal0 [0x00B3C6B8+837304]\n\tOrdinal0 [0x00B2EB34+781108]\n\tOrdinal0 [0x00B2E06A+778346]\n\tOrdinal0 [0x00B2D646+775750]\n\tOrdinal0 [0x00B2CEBC+773820]\n\tOrdinal0 [0x00B2CD59+773465]\n\tOrdinal0 [0x00B3DA70+842352]\n\tOrdinal0 [0x00B8AB6F+1157999]\n\tOrdinal0 [0x00B84463+1131619]\n\tOrdinal0 [0x00B5E860+976992]\n\tOrdinal0 [0x00B5F756+980822]\n\tGetHandleVerifier [0x00F2CC62+2510274]\n\tGetHandleVerifier [0x00F1F760+2455744]\n\tGetHandleVerifier [0x00D4EABA+551962]\n\tGetHandleVerifier [0x00D4D916+547446]\n\tOrdinal0 [0x00C55F3B+1990459]\n\tOrdinal0 [0x00C5A898+2009240]\n\tOrdinal0 [0x00C5A985+2009477]\n\tOrdinal0 [0x00C63AD1+2046673]\n\tBaseThreadInitThunk [0x7699FA29+25]\n\tRtlGetAppContainerNamedObjectPath [0x770F7A9E+286]\n\tRtlGetAppContainerNamedObjectPath [0x770F7A6E+238]\n",
     "output_type": "error",
     "traceback": [
      "\u001b[1;31m---------------------------------------------------------------------------\u001b[0m",
      "\u001b[1;31mWebDriverException\u001b[0m                        Traceback (most recent call last)",
      "\u001b[1;32m~\\AppData\\Local\\Temp/ipykernel_16092/3914952936.py\u001b[0m in \u001b[0;36m<module>\u001b[1;34m\u001b[0m\n\u001b[1;32m----> 1\u001b[1;33m \u001b[0mdriver7\u001b[0m\u001b[1;33m.\u001b[0m\u001b[0mclose\u001b[0m\u001b[1;33m(\u001b[0m\u001b[1;33m)\u001b[0m\u001b[1;33m\u001b[0m\u001b[1;33m\u001b[0m\u001b[0m\n\u001b[0m",
      "\u001b[1;32m~\\anaconda3\\lib\\site-packages\\selenium\\webdriver\\remote\\webdriver.py\u001b[0m in \u001b[0;36mclose\u001b[1;34m(self)\u001b[0m\n\u001b[0;32m    941\u001b[0m                 \u001b[0mdriver\u001b[0m\u001b[1;33m.\u001b[0m\u001b[0mclose\u001b[0m\u001b[1;33m(\u001b[0m\u001b[1;33m)\u001b[0m\u001b[1;33m\u001b[0m\u001b[1;33m\u001b[0m\u001b[0m\n\u001b[0;32m    942\u001b[0m         \"\"\"\n\u001b[1;32m--> 943\u001b[1;33m         \u001b[0mself\u001b[0m\u001b[1;33m.\u001b[0m\u001b[0mexecute\u001b[0m\u001b[1;33m(\u001b[0m\u001b[0mCommand\u001b[0m\u001b[1;33m.\u001b[0m\u001b[0mCLOSE\u001b[0m\u001b[1;33m)\u001b[0m\u001b[1;33m\u001b[0m\u001b[1;33m\u001b[0m\u001b[0m\n\u001b[0m\u001b[0;32m    944\u001b[0m \u001b[1;33m\u001b[0m\u001b[0m\n\u001b[0;32m    945\u001b[0m     \u001b[1;32mdef\u001b[0m \u001b[0mquit\u001b[0m\u001b[1;33m(\u001b[0m\u001b[0mself\u001b[0m\u001b[1;33m)\u001b[0m \u001b[1;33m->\u001b[0m \u001b[1;32mNone\u001b[0m\u001b[1;33m:\u001b[0m\u001b[1;33m\u001b[0m\u001b[1;33m\u001b[0m\u001b[0m\n",
      "\u001b[1;32m~\\anaconda3\\lib\\site-packages\\selenium\\webdriver\\remote\\webdriver.py\u001b[0m in \u001b[0;36mexecute\u001b[1;34m(self, driver_command, params)\u001b[0m\n\u001b[0;32m    428\u001b[0m         \u001b[0mresponse\u001b[0m \u001b[1;33m=\u001b[0m \u001b[0mself\u001b[0m\u001b[1;33m.\u001b[0m\u001b[0mcommand_executor\u001b[0m\u001b[1;33m.\u001b[0m\u001b[0mexecute\u001b[0m\u001b[1;33m(\u001b[0m\u001b[0mdriver_command\u001b[0m\u001b[1;33m,\u001b[0m \u001b[0mparams\u001b[0m\u001b[1;33m)\u001b[0m\u001b[1;33m\u001b[0m\u001b[1;33m\u001b[0m\u001b[0m\n\u001b[0;32m    429\u001b[0m         \u001b[1;32mif\u001b[0m \u001b[0mresponse\u001b[0m\u001b[1;33m:\u001b[0m\u001b[1;33m\u001b[0m\u001b[1;33m\u001b[0m\u001b[0m\n\u001b[1;32m--> 430\u001b[1;33m             \u001b[0mself\u001b[0m\u001b[1;33m.\u001b[0m\u001b[0merror_handler\u001b[0m\u001b[1;33m.\u001b[0m\u001b[0mcheck_response\u001b[0m\u001b[1;33m(\u001b[0m\u001b[0mresponse\u001b[0m\u001b[1;33m)\u001b[0m\u001b[1;33m\u001b[0m\u001b[1;33m\u001b[0m\u001b[0m\n\u001b[0m\u001b[0;32m    431\u001b[0m             response['value'] = self._unwrap_value(\n\u001b[0;32m    432\u001b[0m                 response.get('value', None))\n",
      "\u001b[1;32m~\\anaconda3\\lib\\site-packages\\selenium\\webdriver\\remote\\errorhandler.py\u001b[0m in \u001b[0;36mcheck_response\u001b[1;34m(self, response)\u001b[0m\n\u001b[0;32m    245\u001b[0m                 \u001b[0malert_text\u001b[0m \u001b[1;33m=\u001b[0m \u001b[0mvalue\u001b[0m\u001b[1;33m[\u001b[0m\u001b[1;34m'alert'\u001b[0m\u001b[1;33m]\u001b[0m\u001b[1;33m.\u001b[0m\u001b[0mget\u001b[0m\u001b[1;33m(\u001b[0m\u001b[1;34m'text'\u001b[0m\u001b[1;33m)\u001b[0m\u001b[1;33m\u001b[0m\u001b[1;33m\u001b[0m\u001b[0m\n\u001b[0;32m    246\u001b[0m             \u001b[1;32mraise\u001b[0m \u001b[0mexception_class\u001b[0m\u001b[1;33m(\u001b[0m\u001b[0mmessage\u001b[0m\u001b[1;33m,\u001b[0m \u001b[0mscreen\u001b[0m\u001b[1;33m,\u001b[0m \u001b[0mstacktrace\u001b[0m\u001b[1;33m,\u001b[0m \u001b[0malert_text\u001b[0m\u001b[1;33m)\u001b[0m  \u001b[1;31m# type: ignore[call-arg]  # mypy is not smart enough here\u001b[0m\u001b[1;33m\u001b[0m\u001b[1;33m\u001b[0m\u001b[0m\n\u001b[1;32m--> 247\u001b[1;33m         \u001b[1;32mraise\u001b[0m \u001b[0mexception_class\u001b[0m\u001b[1;33m(\u001b[0m\u001b[0mmessage\u001b[0m\u001b[1;33m,\u001b[0m \u001b[0mscreen\u001b[0m\u001b[1;33m,\u001b[0m \u001b[0mstacktrace\u001b[0m\u001b[1;33m)\u001b[0m\u001b[1;33m\u001b[0m\u001b[1;33m\u001b[0m\u001b[0m\n\u001b[0m\u001b[0;32m    248\u001b[0m \u001b[1;33m\u001b[0m\u001b[0m\n\u001b[0;32m    249\u001b[0m     \u001b[1;32mdef\u001b[0m \u001b[0m_value_or_default\u001b[0m\u001b[1;33m(\u001b[0m\u001b[0mself\u001b[0m\u001b[1;33m,\u001b[0m \u001b[0mobj\u001b[0m\u001b[1;33m:\u001b[0m \u001b[0mMapping\u001b[0m\u001b[1;33m[\u001b[0m\u001b[0m_KT\u001b[0m\u001b[1;33m,\u001b[0m \u001b[0m_VT\u001b[0m\u001b[1;33m]\u001b[0m\u001b[1;33m,\u001b[0m \u001b[0mkey\u001b[0m\u001b[1;33m:\u001b[0m \u001b[0m_KT\u001b[0m\u001b[1;33m,\u001b[0m \u001b[0mdefault\u001b[0m\u001b[1;33m:\u001b[0m \u001b[0m_VT\u001b[0m\u001b[1;33m)\u001b[0m \u001b[1;33m->\u001b[0m \u001b[0m_VT\u001b[0m\u001b[1;33m:\u001b[0m\u001b[1;33m\u001b[0m\u001b[1;33m\u001b[0m\u001b[0m\n",
      "\u001b[1;31mWebDriverException\u001b[0m: Message: unknown error: unexpected command response\n  (Session info: chrome=103.0.5060.114)\nStacktrace:\nBacktrace:\n\tOrdinal0 [0x00CBD953+2414931]\n\tOrdinal0 [0x00C4F5E1+1963489]\n\tOrdinal0 [0x00B3C6B8+837304]\n\tOrdinal0 [0x00B2EB34+781108]\n\tOrdinal0 [0x00B2E06A+778346]\n\tOrdinal0 [0x00B2D646+775750]\n\tOrdinal0 [0x00B2CEBC+773820]\n\tOrdinal0 [0x00B2CD59+773465]\n\tOrdinal0 [0x00B3DA70+842352]\n\tOrdinal0 [0x00B8AB6F+1157999]\n\tOrdinal0 [0x00B84463+1131619]\n\tOrdinal0 [0x00B5E860+976992]\n\tOrdinal0 [0x00B5F756+980822]\n\tGetHandleVerifier [0x00F2CC62+2510274]\n\tGetHandleVerifier [0x00F1F760+2455744]\n\tGetHandleVerifier [0x00D4EABA+551962]\n\tGetHandleVerifier [0x00D4D916+547446]\n\tOrdinal0 [0x00C55F3B+1990459]\n\tOrdinal0 [0x00C5A898+2009240]\n\tOrdinal0 [0x00C5A985+2009477]\n\tOrdinal0 [0x00C63AD1+2046673]\n\tBaseThreadInitThunk [0x7699FA29+25]\n\tRtlGetAppContainerNamedObjectPath [0x770F7A9E+286]\n\tRtlGetAppContainerNamedObjectPath [0x770F7A6E+238]\n"
     ]
    }
   ],
   "source": [
    "driver7.close()"
   ]
  },
  {
   "cell_type": "markdown",
   "id": "722bc9eb",
   "metadata": {},
   "source": [
    "8. Write a python program to scrape the details for all billionaires from www.forbes.com. Details to be scrapped: “Rank”, “Name”, “Net worth”, “Age”, “Citizenship”, “Source”, “Industry”."
   ]
  },
  {
   "cell_type": "code",
   "execution_count": 99,
   "id": "a3902e6b",
   "metadata": {
    "collapsed": true
   },
   "outputs": [
    {
     "ename": "WebDriverException",
     "evalue": "Message: unknown error: unexpected command response\n  (Session info: chrome=103.0.5060.114)\nStacktrace:\nBacktrace:\n\tOrdinal0 [0x00CBD953+2414931]\n\tOrdinal0 [0x00C4F5E1+1963489]\n\tOrdinal0 [0x00B3C6B8+837304]\n\tOrdinal0 [0x00B2EB34+781108]\n\tOrdinal0 [0x00B2E06A+778346]\n\tOrdinal0 [0x00B2D646+775750]\n\tOrdinal0 [0x00B2C565+771429]\n\tOrdinal0 [0x00B2CB68+772968]\n\tOrdinal0 [0x00B2CAF8+772856]\n\tOrdinal0 [0x00B32D5A+798042]\n\tOrdinal0 [0x00B2DD3B+777531]\n\tOrdinal0 [0x00B2E265+778853]\n\tOrdinal0 [0x00B2E04F+778319]\n\tOrdinal0 [0x00B2D646+775750]\n\tOrdinal0 [0x00B2C565+771429]\n\tOrdinal0 [0x00B2CB68+772968]\n\tOrdinal0 [0x00B2CAF8+772856]\n\tOrdinal0 [0x00B32D5A+798042]\n\tOrdinal0 [0x00B2DD3B+777531]\n\tOrdinal0 [0x00B2E265+778853]\n\tOrdinal0 [0x00B2E04F+778319]\n\tOrdinal0 [0x00B2D646+775750]\n\tOrdinal0 [0x00B2CEBC+773820]\n\tOrdinal0 [0x00B2CD59+773465]\n\tOrdinal0 [0x00B3DA70+842352]\n\tOrdinal0 [0x00B940DB+1196251]\n\tOrdinal0 [0x00B842B6+1131190]\n\tOrdinal0 [0x00B5E860+976992]\n\tOrdinal0 [0x00B5F756+980822]\n\tGetHandleVerifier [0x00F2CC62+2510274]\n\tGetHandleVerifier [0x00F1F760+2455744]\n\tGetHandleVerifier [0x00D4EABA+551962]\n\tGetHandleVerifier [0x00D4D916+547446]\n\tOrdinal0 [0x00C55F3B+1990459]\n\tOrdinal0 [0x00C5A898+2009240]\n\tOrdinal0 [0x00C5A985+2009477]\n\tOrdinal0 [0x00C63AD1+2046673]\n\tBaseThreadInitThunk [0x7699FA29+25]\n\tRtlGetAppContainerNamedObjectPath [0x770F7A9E+286]\n\tRtlGetAppContainerNamedObjectPath [0x770F7A6E+238]\n",
     "output_type": "error",
     "traceback": [
      "\u001b[1;31m---------------------------------------------------------------------------\u001b[0m",
      "\u001b[1;31mWebDriverException\u001b[0m                        Traceback (most recent call last)",
      "\u001b[1;32m~\\AppData\\Local\\Temp/ipykernel_16092/502969234.py\u001b[0m in \u001b[0;36m<module>\u001b[1;34m\u001b[0m\n\u001b[0;32m      3\u001b[0m \u001b[0mdriver8\u001b[0m\u001b[1;33m.\u001b[0m\u001b[0mmaximize_window\u001b[0m\u001b[1;33m(\u001b[0m\u001b[1;33m)\u001b[0m\u001b[1;33m\u001b[0m\u001b[1;33m\u001b[0m\u001b[0m\n\u001b[0;32m      4\u001b[0m \u001b[0mtime\u001b[0m\u001b[1;33m.\u001b[0m\u001b[0msleep\u001b[0m\u001b[1;33m(\u001b[0m\u001b[1;36m8\u001b[0m\u001b[1;33m)\u001b[0m\u001b[1;33m\u001b[0m\u001b[1;33m\u001b[0m\u001b[0m\n\u001b[1;32m----> 5\u001b[1;33m \u001b[0mdriver8\u001b[0m\u001b[1;33m.\u001b[0m\u001b[0mfind_element_by_xpath\u001b[0m\u001b[1;33m(\u001b[0m\u001b[1;34m\"//div[@class='tp-iframe-wrapper']/button\"\u001b[0m\u001b[1;33m)\u001b[0m\u001b[1;33m.\u001b[0m\u001b[0mclick\u001b[0m\u001b[1;33m(\u001b[0m\u001b[1;33m)\u001b[0m\u001b[1;33m\u001b[0m\u001b[1;33m\u001b[0m\u001b[0m\n\u001b[0m",
      "\u001b[1;32m~\\anaconda3\\lib\\site-packages\\selenium\\webdriver\\remote\\webdriver.py\u001b[0m in \u001b[0;36mfind_element_by_xpath\u001b[1;34m(self, xpath)\u001b[0m\n\u001b[0;32m    524\u001b[0m             \u001b[0mstacklevel\u001b[0m\u001b[1;33m=\u001b[0m\u001b[1;36m2\u001b[0m\u001b[1;33m,\u001b[0m\u001b[1;33m\u001b[0m\u001b[1;33m\u001b[0m\u001b[0m\n\u001b[0;32m    525\u001b[0m         )\n\u001b[1;32m--> 526\u001b[1;33m         \u001b[1;32mreturn\u001b[0m \u001b[0mself\u001b[0m\u001b[1;33m.\u001b[0m\u001b[0mfind_element\u001b[0m\u001b[1;33m(\u001b[0m\u001b[0mby\u001b[0m\u001b[1;33m=\u001b[0m\u001b[0mBy\u001b[0m\u001b[1;33m.\u001b[0m\u001b[0mXPATH\u001b[0m\u001b[1;33m,\u001b[0m \u001b[0mvalue\u001b[0m\u001b[1;33m=\u001b[0m\u001b[0mxpath\u001b[0m\u001b[1;33m)\u001b[0m\u001b[1;33m\u001b[0m\u001b[1;33m\u001b[0m\u001b[0m\n\u001b[0m\u001b[0;32m    527\u001b[0m \u001b[1;33m\u001b[0m\u001b[0m\n\u001b[0;32m    528\u001b[0m     \u001b[1;32mdef\u001b[0m \u001b[0mfind_elements_by_xpath\u001b[0m\u001b[1;33m(\u001b[0m\u001b[0mself\u001b[0m\u001b[1;33m,\u001b[0m \u001b[0mxpath\u001b[0m\u001b[1;33m)\u001b[0m \u001b[1;33m->\u001b[0m \u001b[0mList\u001b[0m\u001b[1;33m[\u001b[0m\u001b[0mWebElement\u001b[0m\u001b[1;33m]\u001b[0m\u001b[1;33m:\u001b[0m\u001b[1;33m\u001b[0m\u001b[1;33m\u001b[0m\u001b[0m\n",
      "\u001b[1;32m~\\anaconda3\\lib\\site-packages\\selenium\\webdriver\\remote\\webdriver.py\u001b[0m in \u001b[0;36mfind_element\u001b[1;34m(self, by, value)\u001b[0m\n\u001b[0;32m   1249\u001b[0m             \u001b[0mvalue\u001b[0m \u001b[1;33m=\u001b[0m \u001b[1;34m'[name=\"%s\"]'\u001b[0m \u001b[1;33m%\u001b[0m \u001b[0mvalue\u001b[0m\u001b[1;33m\u001b[0m\u001b[1;33m\u001b[0m\u001b[0m\n\u001b[0;32m   1250\u001b[0m \u001b[1;33m\u001b[0m\u001b[0m\n\u001b[1;32m-> 1251\u001b[1;33m         return self.execute(Command.FIND_ELEMENT, {\n\u001b[0m\u001b[0;32m   1252\u001b[0m             \u001b[1;34m'using'\u001b[0m\u001b[1;33m:\u001b[0m \u001b[0mby\u001b[0m\u001b[1;33m,\u001b[0m\u001b[1;33m\u001b[0m\u001b[1;33m\u001b[0m\u001b[0m\n\u001b[0;32m   1253\u001b[0m             'value': value})['value']\n",
      "\u001b[1;32m~\\anaconda3\\lib\\site-packages\\selenium\\webdriver\\remote\\webdriver.py\u001b[0m in \u001b[0;36mexecute\u001b[1;34m(self, driver_command, params)\u001b[0m\n\u001b[0;32m    428\u001b[0m         \u001b[0mresponse\u001b[0m \u001b[1;33m=\u001b[0m \u001b[0mself\u001b[0m\u001b[1;33m.\u001b[0m\u001b[0mcommand_executor\u001b[0m\u001b[1;33m.\u001b[0m\u001b[0mexecute\u001b[0m\u001b[1;33m(\u001b[0m\u001b[0mdriver_command\u001b[0m\u001b[1;33m,\u001b[0m \u001b[0mparams\u001b[0m\u001b[1;33m)\u001b[0m\u001b[1;33m\u001b[0m\u001b[1;33m\u001b[0m\u001b[0m\n\u001b[0;32m    429\u001b[0m         \u001b[1;32mif\u001b[0m \u001b[0mresponse\u001b[0m\u001b[1;33m:\u001b[0m\u001b[1;33m\u001b[0m\u001b[1;33m\u001b[0m\u001b[0m\n\u001b[1;32m--> 430\u001b[1;33m             \u001b[0mself\u001b[0m\u001b[1;33m.\u001b[0m\u001b[0merror_handler\u001b[0m\u001b[1;33m.\u001b[0m\u001b[0mcheck_response\u001b[0m\u001b[1;33m(\u001b[0m\u001b[0mresponse\u001b[0m\u001b[1;33m)\u001b[0m\u001b[1;33m\u001b[0m\u001b[1;33m\u001b[0m\u001b[0m\n\u001b[0m\u001b[0;32m    431\u001b[0m             response['value'] = self._unwrap_value(\n\u001b[0;32m    432\u001b[0m                 response.get('value', None))\n",
      "\u001b[1;32m~\\anaconda3\\lib\\site-packages\\selenium\\webdriver\\remote\\errorhandler.py\u001b[0m in \u001b[0;36mcheck_response\u001b[1;34m(self, response)\u001b[0m\n\u001b[0;32m    245\u001b[0m                 \u001b[0malert_text\u001b[0m \u001b[1;33m=\u001b[0m \u001b[0mvalue\u001b[0m\u001b[1;33m[\u001b[0m\u001b[1;34m'alert'\u001b[0m\u001b[1;33m]\u001b[0m\u001b[1;33m.\u001b[0m\u001b[0mget\u001b[0m\u001b[1;33m(\u001b[0m\u001b[1;34m'text'\u001b[0m\u001b[1;33m)\u001b[0m\u001b[1;33m\u001b[0m\u001b[1;33m\u001b[0m\u001b[0m\n\u001b[0;32m    246\u001b[0m             \u001b[1;32mraise\u001b[0m \u001b[0mexception_class\u001b[0m\u001b[1;33m(\u001b[0m\u001b[0mmessage\u001b[0m\u001b[1;33m,\u001b[0m \u001b[0mscreen\u001b[0m\u001b[1;33m,\u001b[0m \u001b[0mstacktrace\u001b[0m\u001b[1;33m,\u001b[0m \u001b[0malert_text\u001b[0m\u001b[1;33m)\u001b[0m  \u001b[1;31m# type: ignore[call-arg]  # mypy is not smart enough here\u001b[0m\u001b[1;33m\u001b[0m\u001b[1;33m\u001b[0m\u001b[0m\n\u001b[1;32m--> 247\u001b[1;33m         \u001b[1;32mraise\u001b[0m \u001b[0mexception_class\u001b[0m\u001b[1;33m(\u001b[0m\u001b[0mmessage\u001b[0m\u001b[1;33m,\u001b[0m \u001b[0mscreen\u001b[0m\u001b[1;33m,\u001b[0m \u001b[0mstacktrace\u001b[0m\u001b[1;33m)\u001b[0m\u001b[1;33m\u001b[0m\u001b[1;33m\u001b[0m\u001b[0m\n\u001b[0m\u001b[0;32m    248\u001b[0m \u001b[1;33m\u001b[0m\u001b[0m\n\u001b[0;32m    249\u001b[0m     \u001b[1;32mdef\u001b[0m \u001b[0m_value_or_default\u001b[0m\u001b[1;33m(\u001b[0m\u001b[0mself\u001b[0m\u001b[1;33m,\u001b[0m \u001b[0mobj\u001b[0m\u001b[1;33m:\u001b[0m \u001b[0mMapping\u001b[0m\u001b[1;33m[\u001b[0m\u001b[0m_KT\u001b[0m\u001b[1;33m,\u001b[0m \u001b[0m_VT\u001b[0m\u001b[1;33m]\u001b[0m\u001b[1;33m,\u001b[0m \u001b[0mkey\u001b[0m\u001b[1;33m:\u001b[0m \u001b[0m_KT\u001b[0m\u001b[1;33m,\u001b[0m \u001b[0mdefault\u001b[0m\u001b[1;33m:\u001b[0m \u001b[0m_VT\u001b[0m\u001b[1;33m)\u001b[0m \u001b[1;33m->\u001b[0m \u001b[0m_VT\u001b[0m\u001b[1;33m:\u001b[0m\u001b[1;33m\u001b[0m\u001b[1;33m\u001b[0m\u001b[0m\n",
      "\u001b[1;31mWebDriverException\u001b[0m: Message: unknown error: unexpected command response\n  (Session info: chrome=103.0.5060.114)\nStacktrace:\nBacktrace:\n\tOrdinal0 [0x00CBD953+2414931]\n\tOrdinal0 [0x00C4F5E1+1963489]\n\tOrdinal0 [0x00B3C6B8+837304]\n\tOrdinal0 [0x00B2EB34+781108]\n\tOrdinal0 [0x00B2E06A+778346]\n\tOrdinal0 [0x00B2D646+775750]\n\tOrdinal0 [0x00B2C565+771429]\n\tOrdinal0 [0x00B2CB68+772968]\n\tOrdinal0 [0x00B2CAF8+772856]\n\tOrdinal0 [0x00B32D5A+798042]\n\tOrdinal0 [0x00B2DD3B+777531]\n\tOrdinal0 [0x00B2E265+778853]\n\tOrdinal0 [0x00B2E04F+778319]\n\tOrdinal0 [0x00B2D646+775750]\n\tOrdinal0 [0x00B2C565+771429]\n\tOrdinal0 [0x00B2CB68+772968]\n\tOrdinal0 [0x00B2CAF8+772856]\n\tOrdinal0 [0x00B32D5A+798042]\n\tOrdinal0 [0x00B2DD3B+777531]\n\tOrdinal0 [0x00B2E265+778853]\n\tOrdinal0 [0x00B2E04F+778319]\n\tOrdinal0 [0x00B2D646+775750]\n\tOrdinal0 [0x00B2CEBC+773820]\n\tOrdinal0 [0x00B2CD59+773465]\n\tOrdinal0 [0x00B3DA70+842352]\n\tOrdinal0 [0x00B940DB+1196251]\n\tOrdinal0 [0x00B842B6+1131190]\n\tOrdinal0 [0x00B5E860+976992]\n\tOrdinal0 [0x00B5F756+980822]\n\tGetHandleVerifier [0x00F2CC62+2510274]\n\tGetHandleVerifier [0x00F1F760+2455744]\n\tGetHandleVerifier [0x00D4EABA+551962]\n\tGetHandleVerifier [0x00D4D916+547446]\n\tOrdinal0 [0x00C55F3B+1990459]\n\tOrdinal0 [0x00C5A898+2009240]\n\tOrdinal0 [0x00C5A985+2009477]\n\tOrdinal0 [0x00C63AD1+2046673]\n\tBaseThreadInitThunk [0x7699FA29+25]\n\tRtlGetAppContainerNamedObjectPath [0x770F7A9E+286]\n\tRtlGetAppContainerNamedObjectPath [0x770F7A6E+238]\n"
     ]
    }
   ],
   "source": [
    "driver8=webdriver.Chrome(\"chromedriver.exe\")\n",
    "driver8.get(\"https://www.forbes.com/\")\n",
    "driver8.maximize_window()\n",
    "time.sleep(8)\n",
    "driver8.find_element_by_xpath(\"//div[@class='tp-iframe-wrapper']/button\").click()"
   ]
  },
  {
   "cell_type": "code",
   "execution_count": null,
   "id": "b6b558b5",
   "metadata": {},
   "outputs": [],
   "source": [
    "driver8.find_element_by_xpath(\"/html/body/div[1]/header/nav/div[4]/button\").click()"
   ]
  },
  {
   "cell_type": "code",
   "execution_count": 95,
   "id": "8e85c69c",
   "metadata": {
    "collapsed": true
   },
   "outputs": [
    {
     "ename": "WebDriverException",
     "evalue": "Message: unknown error: unexpected command response\n  (Session info: chrome=103.0.5060.114)\nStacktrace:\nBacktrace:\n\tOrdinal0 [0x00CBD953+2414931]\n\tOrdinal0 [0x00C4F5E1+1963489]\n\tOrdinal0 [0x00B3C6B8+837304]\n\tOrdinal0 [0x00B2EB34+781108]\n\tOrdinal0 [0x00B2E06A+778346]\n\tOrdinal0 [0x00B2D646+775750]\n\tOrdinal0 [0x00B2CEBC+773820]\n\tOrdinal0 [0x00B2CD59+773465]\n\tOrdinal0 [0x00B3DA70+842352]\n\tOrdinal0 [0x00B940DB+1196251]\n\tOrdinal0 [0x00B842B6+1131190]\n\tOrdinal0 [0x00B5E860+976992]\n\tOrdinal0 [0x00B5F756+980822]\n\tGetHandleVerifier [0x00F2CC62+2510274]\n\tGetHandleVerifier [0x00F1F760+2455744]\n\tGetHandleVerifier [0x00D4EABA+551962]\n\tGetHandleVerifier [0x00D4D916+547446]\n\tOrdinal0 [0x00C55F3B+1990459]\n\tOrdinal0 [0x00C5A898+2009240]\n\tOrdinal0 [0x00C5A985+2009477]\n\tOrdinal0 [0x00C63AD1+2046673]\n\tBaseThreadInitThunk [0x7699FA29+25]\n\tRtlGetAppContainerNamedObjectPath [0x770F7A9E+286]\n\tRtlGetAppContainerNamedObjectPath [0x770F7A6E+238]\n",
     "output_type": "error",
     "traceback": [
      "\u001b[1;31m---------------------------------------------------------------------------\u001b[0m",
      "\u001b[1;31mWebDriverException\u001b[0m                        Traceback (most recent call last)",
      "\u001b[1;32m~\\AppData\\Local\\Temp/ipykernel_16092/4004781207.py\u001b[0m in \u001b[0;36m<module>\u001b[1;34m\u001b[0m\n\u001b[1;32m----> 1\u001b[1;33m \u001b[0mdriver8\u001b[0m\u001b[1;33m.\u001b[0m\u001b[0mfind_element_by_xpath\u001b[0m\u001b[1;33m(\u001b[0m\u001b[1;34m\"//h2[@class='chansec-special-feature__title no-label--special-feature'][1]\"\u001b[0m\u001b[1;33m)\u001b[0m\u001b[1;33m.\u001b[0m\u001b[0mclick\u001b[0m\u001b[1;33m(\u001b[0m\u001b[1;33m)\u001b[0m\u001b[1;33m\u001b[0m\u001b[1;33m\u001b[0m\u001b[0m\n\u001b[0m",
      "\u001b[1;32m~\\anaconda3\\lib\\site-packages\\selenium\\webdriver\\remote\\webdriver.py\u001b[0m in \u001b[0;36mfind_element_by_xpath\u001b[1;34m(self, xpath)\u001b[0m\n\u001b[0;32m    524\u001b[0m             \u001b[0mstacklevel\u001b[0m\u001b[1;33m=\u001b[0m\u001b[1;36m2\u001b[0m\u001b[1;33m,\u001b[0m\u001b[1;33m\u001b[0m\u001b[1;33m\u001b[0m\u001b[0m\n\u001b[0;32m    525\u001b[0m         )\n\u001b[1;32m--> 526\u001b[1;33m         \u001b[1;32mreturn\u001b[0m \u001b[0mself\u001b[0m\u001b[1;33m.\u001b[0m\u001b[0mfind_element\u001b[0m\u001b[1;33m(\u001b[0m\u001b[0mby\u001b[0m\u001b[1;33m=\u001b[0m\u001b[0mBy\u001b[0m\u001b[1;33m.\u001b[0m\u001b[0mXPATH\u001b[0m\u001b[1;33m,\u001b[0m \u001b[0mvalue\u001b[0m\u001b[1;33m=\u001b[0m\u001b[0mxpath\u001b[0m\u001b[1;33m)\u001b[0m\u001b[1;33m\u001b[0m\u001b[1;33m\u001b[0m\u001b[0m\n\u001b[0m\u001b[0;32m    527\u001b[0m \u001b[1;33m\u001b[0m\u001b[0m\n\u001b[0;32m    528\u001b[0m     \u001b[1;32mdef\u001b[0m \u001b[0mfind_elements_by_xpath\u001b[0m\u001b[1;33m(\u001b[0m\u001b[0mself\u001b[0m\u001b[1;33m,\u001b[0m \u001b[0mxpath\u001b[0m\u001b[1;33m)\u001b[0m \u001b[1;33m->\u001b[0m \u001b[0mList\u001b[0m\u001b[1;33m[\u001b[0m\u001b[0mWebElement\u001b[0m\u001b[1;33m]\u001b[0m\u001b[1;33m:\u001b[0m\u001b[1;33m\u001b[0m\u001b[1;33m\u001b[0m\u001b[0m\n",
      "\u001b[1;32m~\\anaconda3\\lib\\site-packages\\selenium\\webdriver\\remote\\webdriver.py\u001b[0m in \u001b[0;36mfind_element\u001b[1;34m(self, by, value)\u001b[0m\n\u001b[0;32m   1249\u001b[0m             \u001b[0mvalue\u001b[0m \u001b[1;33m=\u001b[0m \u001b[1;34m'[name=\"%s\"]'\u001b[0m \u001b[1;33m%\u001b[0m \u001b[0mvalue\u001b[0m\u001b[1;33m\u001b[0m\u001b[1;33m\u001b[0m\u001b[0m\n\u001b[0;32m   1250\u001b[0m \u001b[1;33m\u001b[0m\u001b[0m\n\u001b[1;32m-> 1251\u001b[1;33m         return self.execute(Command.FIND_ELEMENT, {\n\u001b[0m\u001b[0;32m   1252\u001b[0m             \u001b[1;34m'using'\u001b[0m\u001b[1;33m:\u001b[0m \u001b[0mby\u001b[0m\u001b[1;33m,\u001b[0m\u001b[1;33m\u001b[0m\u001b[1;33m\u001b[0m\u001b[0m\n\u001b[0;32m   1253\u001b[0m             'value': value})['value']\n",
      "\u001b[1;32m~\\anaconda3\\lib\\site-packages\\selenium\\webdriver\\remote\\webdriver.py\u001b[0m in \u001b[0;36mexecute\u001b[1;34m(self, driver_command, params)\u001b[0m\n\u001b[0;32m    428\u001b[0m         \u001b[0mresponse\u001b[0m \u001b[1;33m=\u001b[0m \u001b[0mself\u001b[0m\u001b[1;33m.\u001b[0m\u001b[0mcommand_executor\u001b[0m\u001b[1;33m.\u001b[0m\u001b[0mexecute\u001b[0m\u001b[1;33m(\u001b[0m\u001b[0mdriver_command\u001b[0m\u001b[1;33m,\u001b[0m \u001b[0mparams\u001b[0m\u001b[1;33m)\u001b[0m\u001b[1;33m\u001b[0m\u001b[1;33m\u001b[0m\u001b[0m\n\u001b[0;32m    429\u001b[0m         \u001b[1;32mif\u001b[0m \u001b[0mresponse\u001b[0m\u001b[1;33m:\u001b[0m\u001b[1;33m\u001b[0m\u001b[1;33m\u001b[0m\u001b[0m\n\u001b[1;32m--> 430\u001b[1;33m             \u001b[0mself\u001b[0m\u001b[1;33m.\u001b[0m\u001b[0merror_handler\u001b[0m\u001b[1;33m.\u001b[0m\u001b[0mcheck_response\u001b[0m\u001b[1;33m(\u001b[0m\u001b[0mresponse\u001b[0m\u001b[1;33m)\u001b[0m\u001b[1;33m\u001b[0m\u001b[1;33m\u001b[0m\u001b[0m\n\u001b[0m\u001b[0;32m    431\u001b[0m             response['value'] = self._unwrap_value(\n\u001b[0;32m    432\u001b[0m                 response.get('value', None))\n",
      "\u001b[1;32m~\\anaconda3\\lib\\site-packages\\selenium\\webdriver\\remote\\errorhandler.py\u001b[0m in \u001b[0;36mcheck_response\u001b[1;34m(self, response)\u001b[0m\n\u001b[0;32m    245\u001b[0m                 \u001b[0malert_text\u001b[0m \u001b[1;33m=\u001b[0m \u001b[0mvalue\u001b[0m\u001b[1;33m[\u001b[0m\u001b[1;34m'alert'\u001b[0m\u001b[1;33m]\u001b[0m\u001b[1;33m.\u001b[0m\u001b[0mget\u001b[0m\u001b[1;33m(\u001b[0m\u001b[1;34m'text'\u001b[0m\u001b[1;33m)\u001b[0m\u001b[1;33m\u001b[0m\u001b[1;33m\u001b[0m\u001b[0m\n\u001b[0;32m    246\u001b[0m             \u001b[1;32mraise\u001b[0m \u001b[0mexception_class\u001b[0m\u001b[1;33m(\u001b[0m\u001b[0mmessage\u001b[0m\u001b[1;33m,\u001b[0m \u001b[0mscreen\u001b[0m\u001b[1;33m,\u001b[0m \u001b[0mstacktrace\u001b[0m\u001b[1;33m,\u001b[0m \u001b[0malert_text\u001b[0m\u001b[1;33m)\u001b[0m  \u001b[1;31m# type: ignore[call-arg]  # mypy is not smart enough here\u001b[0m\u001b[1;33m\u001b[0m\u001b[1;33m\u001b[0m\u001b[0m\n\u001b[1;32m--> 247\u001b[1;33m         \u001b[1;32mraise\u001b[0m \u001b[0mexception_class\u001b[0m\u001b[1;33m(\u001b[0m\u001b[0mmessage\u001b[0m\u001b[1;33m,\u001b[0m \u001b[0mscreen\u001b[0m\u001b[1;33m,\u001b[0m \u001b[0mstacktrace\u001b[0m\u001b[1;33m)\u001b[0m\u001b[1;33m\u001b[0m\u001b[1;33m\u001b[0m\u001b[0m\n\u001b[0m\u001b[0;32m    248\u001b[0m \u001b[1;33m\u001b[0m\u001b[0m\n\u001b[0;32m    249\u001b[0m     \u001b[1;32mdef\u001b[0m \u001b[0m_value_or_default\u001b[0m\u001b[1;33m(\u001b[0m\u001b[0mself\u001b[0m\u001b[1;33m,\u001b[0m \u001b[0mobj\u001b[0m\u001b[1;33m:\u001b[0m \u001b[0mMapping\u001b[0m\u001b[1;33m[\u001b[0m\u001b[0m_KT\u001b[0m\u001b[1;33m,\u001b[0m \u001b[0m_VT\u001b[0m\u001b[1;33m]\u001b[0m\u001b[1;33m,\u001b[0m \u001b[0mkey\u001b[0m\u001b[1;33m:\u001b[0m \u001b[0m_KT\u001b[0m\u001b[1;33m,\u001b[0m \u001b[0mdefault\u001b[0m\u001b[1;33m:\u001b[0m \u001b[0m_VT\u001b[0m\u001b[1;33m)\u001b[0m \u001b[1;33m->\u001b[0m \u001b[0m_VT\u001b[0m\u001b[1;33m:\u001b[0m\u001b[1;33m\u001b[0m\u001b[1;33m\u001b[0m\u001b[0m\n",
      "\u001b[1;31mWebDriverException\u001b[0m: Message: unknown error: unexpected command response\n  (Session info: chrome=103.0.5060.114)\nStacktrace:\nBacktrace:\n\tOrdinal0 [0x00CBD953+2414931]\n\tOrdinal0 [0x00C4F5E1+1963489]\n\tOrdinal0 [0x00B3C6B8+837304]\n\tOrdinal0 [0x00B2EB34+781108]\n\tOrdinal0 [0x00B2E06A+778346]\n\tOrdinal0 [0x00B2D646+775750]\n\tOrdinal0 [0x00B2CEBC+773820]\n\tOrdinal0 [0x00B2CD59+773465]\n\tOrdinal0 [0x00B3DA70+842352]\n\tOrdinal0 [0x00B940DB+1196251]\n\tOrdinal0 [0x00B842B6+1131190]\n\tOrdinal0 [0x00B5E860+976992]\n\tOrdinal0 [0x00B5F756+980822]\n\tGetHandleVerifier [0x00F2CC62+2510274]\n\tGetHandleVerifier [0x00F1F760+2455744]\n\tGetHandleVerifier [0x00D4EABA+551962]\n\tGetHandleVerifier [0x00D4D916+547446]\n\tOrdinal0 [0x00C55F3B+1990459]\n\tOrdinal0 [0x00C5A898+2009240]\n\tOrdinal0 [0x00C5A985+2009477]\n\tOrdinal0 [0x00C63AD1+2046673]\n\tBaseThreadInitThunk [0x7699FA29+25]\n\tRtlGetAppContainerNamedObjectPath [0x770F7A9E+286]\n\tRtlGetAppContainerNamedObjectPath [0x770F7A6E+238]\n"
     ]
    }
   ],
   "source": [
    "driver8.find_element_by_xpath(\"//h2[@class='chansec-special-feature__title no-label--special-feature'][1]\").click()"
   ]
  },
  {
   "cell_type": "code",
   "execution_count": 96,
   "id": "6c3b2322",
   "metadata": {
    "collapsed": true
   },
   "outputs": [
    {
     "ename": "WebDriverException",
     "evalue": "Message: unknown error: unexpected command response\n  (Session info: chrome=103.0.5060.114)\nStacktrace:\nBacktrace:\n\tOrdinal0 [0x00CBD953+2414931]\n\tOrdinal0 [0x00C4F5E1+1963489]\n\tOrdinal0 [0x00B3C6B8+837304]\n\tOrdinal0 [0x00B2EB34+781108]\n\tOrdinal0 [0x00B2E06A+778346]\n\tOrdinal0 [0x00B2D646+775750]\n\tOrdinal0 [0x00B2CEBC+773820]\n\tOrdinal0 [0x00B2CD59+773465]\n\tOrdinal0 [0x00B3DA70+842352]\n\tOrdinal0 [0x00B8AB6F+1157999]\n\tOrdinal0 [0x00B84463+1131619]\n\tOrdinal0 [0x00B5E860+976992]\n\tOrdinal0 [0x00B5F756+980822]\n\tGetHandleVerifier [0x00F2CC62+2510274]\n\tGetHandleVerifier [0x00F1F760+2455744]\n\tGetHandleVerifier [0x00D4EABA+551962]\n\tGetHandleVerifier [0x00D4D916+547446]\n\tOrdinal0 [0x00C55F3B+1990459]\n\tOrdinal0 [0x00C5A898+2009240]\n\tOrdinal0 [0x00C5A985+2009477]\n\tOrdinal0 [0x00C63AD1+2046673]\n\tBaseThreadInitThunk [0x7699FA29+25]\n\tRtlGetAppContainerNamedObjectPath [0x770F7A9E+286]\n\tRtlGetAppContainerNamedObjectPath [0x770F7A6E+238]\n",
     "output_type": "error",
     "traceback": [
      "\u001b[1;31m---------------------------------------------------------------------------\u001b[0m",
      "\u001b[1;31mWebDriverException\u001b[0m                        Traceback (most recent call last)",
      "\u001b[1;32m~\\AppData\\Local\\Temp/ipykernel_16092/2409561459.py\u001b[0m in \u001b[0;36m<module>\u001b[1;34m\u001b[0m\n\u001b[1;32m----> 1\u001b[1;33m \u001b[0mdriver8\u001b[0m\u001b[1;33m.\u001b[0m\u001b[0mclose\u001b[0m\u001b[1;33m(\u001b[0m\u001b[1;33m)\u001b[0m\u001b[1;33m\u001b[0m\u001b[1;33m\u001b[0m\u001b[0m\n\u001b[0m",
      "\u001b[1;32m~\\anaconda3\\lib\\site-packages\\selenium\\webdriver\\remote\\webdriver.py\u001b[0m in \u001b[0;36mclose\u001b[1;34m(self)\u001b[0m\n\u001b[0;32m    941\u001b[0m                 \u001b[0mdriver\u001b[0m\u001b[1;33m.\u001b[0m\u001b[0mclose\u001b[0m\u001b[1;33m(\u001b[0m\u001b[1;33m)\u001b[0m\u001b[1;33m\u001b[0m\u001b[1;33m\u001b[0m\u001b[0m\n\u001b[0;32m    942\u001b[0m         \"\"\"\n\u001b[1;32m--> 943\u001b[1;33m         \u001b[0mself\u001b[0m\u001b[1;33m.\u001b[0m\u001b[0mexecute\u001b[0m\u001b[1;33m(\u001b[0m\u001b[0mCommand\u001b[0m\u001b[1;33m.\u001b[0m\u001b[0mCLOSE\u001b[0m\u001b[1;33m)\u001b[0m\u001b[1;33m\u001b[0m\u001b[1;33m\u001b[0m\u001b[0m\n\u001b[0m\u001b[0;32m    944\u001b[0m \u001b[1;33m\u001b[0m\u001b[0m\n\u001b[0;32m    945\u001b[0m     \u001b[1;32mdef\u001b[0m \u001b[0mquit\u001b[0m\u001b[1;33m(\u001b[0m\u001b[0mself\u001b[0m\u001b[1;33m)\u001b[0m \u001b[1;33m->\u001b[0m \u001b[1;32mNone\u001b[0m\u001b[1;33m:\u001b[0m\u001b[1;33m\u001b[0m\u001b[1;33m\u001b[0m\u001b[0m\n",
      "\u001b[1;32m~\\anaconda3\\lib\\site-packages\\selenium\\webdriver\\remote\\webdriver.py\u001b[0m in \u001b[0;36mexecute\u001b[1;34m(self, driver_command, params)\u001b[0m\n\u001b[0;32m    428\u001b[0m         \u001b[0mresponse\u001b[0m \u001b[1;33m=\u001b[0m \u001b[0mself\u001b[0m\u001b[1;33m.\u001b[0m\u001b[0mcommand_executor\u001b[0m\u001b[1;33m.\u001b[0m\u001b[0mexecute\u001b[0m\u001b[1;33m(\u001b[0m\u001b[0mdriver_command\u001b[0m\u001b[1;33m,\u001b[0m \u001b[0mparams\u001b[0m\u001b[1;33m)\u001b[0m\u001b[1;33m\u001b[0m\u001b[1;33m\u001b[0m\u001b[0m\n\u001b[0;32m    429\u001b[0m         \u001b[1;32mif\u001b[0m \u001b[0mresponse\u001b[0m\u001b[1;33m:\u001b[0m\u001b[1;33m\u001b[0m\u001b[1;33m\u001b[0m\u001b[0m\n\u001b[1;32m--> 430\u001b[1;33m             \u001b[0mself\u001b[0m\u001b[1;33m.\u001b[0m\u001b[0merror_handler\u001b[0m\u001b[1;33m.\u001b[0m\u001b[0mcheck_response\u001b[0m\u001b[1;33m(\u001b[0m\u001b[0mresponse\u001b[0m\u001b[1;33m)\u001b[0m\u001b[1;33m\u001b[0m\u001b[1;33m\u001b[0m\u001b[0m\n\u001b[0m\u001b[0;32m    431\u001b[0m             response['value'] = self._unwrap_value(\n\u001b[0;32m    432\u001b[0m                 response.get('value', None))\n",
      "\u001b[1;32m~\\anaconda3\\lib\\site-packages\\selenium\\webdriver\\remote\\errorhandler.py\u001b[0m in \u001b[0;36mcheck_response\u001b[1;34m(self, response)\u001b[0m\n\u001b[0;32m    245\u001b[0m                 \u001b[0malert_text\u001b[0m \u001b[1;33m=\u001b[0m \u001b[0mvalue\u001b[0m\u001b[1;33m[\u001b[0m\u001b[1;34m'alert'\u001b[0m\u001b[1;33m]\u001b[0m\u001b[1;33m.\u001b[0m\u001b[0mget\u001b[0m\u001b[1;33m(\u001b[0m\u001b[1;34m'text'\u001b[0m\u001b[1;33m)\u001b[0m\u001b[1;33m\u001b[0m\u001b[1;33m\u001b[0m\u001b[0m\n\u001b[0;32m    246\u001b[0m             \u001b[1;32mraise\u001b[0m \u001b[0mexception_class\u001b[0m\u001b[1;33m(\u001b[0m\u001b[0mmessage\u001b[0m\u001b[1;33m,\u001b[0m \u001b[0mscreen\u001b[0m\u001b[1;33m,\u001b[0m \u001b[0mstacktrace\u001b[0m\u001b[1;33m,\u001b[0m \u001b[0malert_text\u001b[0m\u001b[1;33m)\u001b[0m  \u001b[1;31m# type: ignore[call-arg]  # mypy is not smart enough here\u001b[0m\u001b[1;33m\u001b[0m\u001b[1;33m\u001b[0m\u001b[0m\n\u001b[1;32m--> 247\u001b[1;33m         \u001b[1;32mraise\u001b[0m \u001b[0mexception_class\u001b[0m\u001b[1;33m(\u001b[0m\u001b[0mmessage\u001b[0m\u001b[1;33m,\u001b[0m \u001b[0mscreen\u001b[0m\u001b[1;33m,\u001b[0m \u001b[0mstacktrace\u001b[0m\u001b[1;33m)\u001b[0m\u001b[1;33m\u001b[0m\u001b[1;33m\u001b[0m\u001b[0m\n\u001b[0m\u001b[0;32m    248\u001b[0m \u001b[1;33m\u001b[0m\u001b[0m\n\u001b[0;32m    249\u001b[0m     \u001b[1;32mdef\u001b[0m \u001b[0m_value_or_default\u001b[0m\u001b[1;33m(\u001b[0m\u001b[0mself\u001b[0m\u001b[1;33m,\u001b[0m \u001b[0mobj\u001b[0m\u001b[1;33m:\u001b[0m \u001b[0mMapping\u001b[0m\u001b[1;33m[\u001b[0m\u001b[0m_KT\u001b[0m\u001b[1;33m,\u001b[0m \u001b[0m_VT\u001b[0m\u001b[1;33m]\u001b[0m\u001b[1;33m,\u001b[0m \u001b[0mkey\u001b[0m\u001b[1;33m:\u001b[0m \u001b[0m_KT\u001b[0m\u001b[1;33m,\u001b[0m \u001b[0mdefault\u001b[0m\u001b[1;33m:\u001b[0m \u001b[0m_VT\u001b[0m\u001b[1;33m)\u001b[0m \u001b[1;33m->\u001b[0m \u001b[0m_VT\u001b[0m\u001b[1;33m:\u001b[0m\u001b[1;33m\u001b[0m\u001b[1;33m\u001b[0m\u001b[0m\n",
      "\u001b[1;31mWebDriverException\u001b[0m: Message: unknown error: unexpected command response\n  (Session info: chrome=103.0.5060.114)\nStacktrace:\nBacktrace:\n\tOrdinal0 [0x00CBD953+2414931]\n\tOrdinal0 [0x00C4F5E1+1963489]\n\tOrdinal0 [0x00B3C6B8+837304]\n\tOrdinal0 [0x00B2EB34+781108]\n\tOrdinal0 [0x00B2E06A+778346]\n\tOrdinal0 [0x00B2D646+775750]\n\tOrdinal0 [0x00B2CEBC+773820]\n\tOrdinal0 [0x00B2CD59+773465]\n\tOrdinal0 [0x00B3DA70+842352]\n\tOrdinal0 [0x00B8AB6F+1157999]\n\tOrdinal0 [0x00B84463+1131619]\n\tOrdinal0 [0x00B5E860+976992]\n\tOrdinal0 [0x00B5F756+980822]\n\tGetHandleVerifier [0x00F2CC62+2510274]\n\tGetHandleVerifier [0x00F1F760+2455744]\n\tGetHandleVerifier [0x00D4EABA+551962]\n\tGetHandleVerifier [0x00D4D916+547446]\n\tOrdinal0 [0x00C55F3B+1990459]\n\tOrdinal0 [0x00C5A898+2009240]\n\tOrdinal0 [0x00C5A985+2009477]\n\tOrdinal0 [0x00C63AD1+2046673]\n\tBaseThreadInitThunk [0x7699FA29+25]\n\tRtlGetAppContainerNamedObjectPath [0x770F7A9E+286]\n\tRtlGetAppContainerNamedObjectPath [0x770F7A6E+238]\n"
     ]
    }
   ],
   "source": [
    "driver8.close()"
   ]
  },
  {
   "cell_type": "markdown",
   "id": "57f89c0c",
   "metadata": {},
   "source": [
    "9. Write a program to extract at least 500 Comments, Comment upvote and time when comment was posted from any YouTube Video."
   ]
  },
  {
   "cell_type": "code",
   "execution_count": 5,
   "id": "8cbcb778",
   "metadata": {},
   "outputs": [],
   "source": [
    "driver9=webdriver.Chrome(\"chromedriver.exe\")\n",
    "driver9.get(\"https://www.youtube.com/\")"
   ]
  },
  {
   "cell_type": "code",
   "execution_count": 6,
   "id": "0fdb3925",
   "metadata": {},
   "outputs": [],
   "source": [
    "driver9.find_element_by_xpath(\"//a[@id='video-title-link']\").click()"
   ]
  },
  {
   "cell_type": "code",
   "execution_count": null,
   "id": "20622cc0",
   "metadata": {},
   "outputs": [],
   "source": [
    "driver9.bbbbb"
   ]
  },
  {
   "cell_type": "markdown",
   "id": "87602041",
   "metadata": {},
   "source": [
    "10. Write a python program to scrape a data for all available Hostels from https://www.hostelworld.com/ in “London” location. You have to scrape hostel name, distance from city centre, ratings, total reviews, overall reviews, privates from price, dorms from price, facilities and property description."
   ]
  },
  {
   "cell_type": "code",
   "execution_count": null,
   "id": "2ace6047",
   "metadata": {},
   "outputs": [],
   "source": []
  },
  {
   "cell_type": "code",
   "execution_count": 3,
   "id": "b2783fe5",
   "metadata": {},
   "outputs": [],
   "source": [
    "driver10=webdriver.Chrome(\"chromedriver.exe\")\n",
    "driver10.get(\"https://www.hostelworld.com/\")"
   ]
  },
  {
   "cell_type": "code",
   "execution_count": 24,
   "id": "3b26cf47",
   "metadata": {
    "collapsed": true
   },
   "outputs": [
    {
     "ename": "ElementNotInteractableException",
     "evalue": "Message: element not interactable\n  (Session info: chrome=103.0.5060.114)\nStacktrace:\nBacktrace:\n\tOrdinal0 [0x0041D953+2414931]\n\tOrdinal0 [0x003AF5E1+1963489]\n\tOrdinal0 [0x0029C580+836992]\n\tOrdinal0 [0x002C4BE3+1002467]\n\tOrdinal0 [0x002C42C8+1000136]\n\tOrdinal0 [0x002E449C+1131676]\n\tOrdinal0 [0x002BFC74+982132]\n\tOrdinal0 [0x002E46B4+1132212]\n\tOrdinal0 [0x002F4812+1198098]\n\tOrdinal0 [0x002E42B6+1131190]\n\tOrdinal0 [0x002BE860+976992]\n\tOrdinal0 [0x002BF756+980822]\n\tGetHandleVerifier [0x0068CC62+2510274]\n\tGetHandleVerifier [0x0067F760+2455744]\n\tGetHandleVerifier [0x004AEABA+551962]\n\tGetHandleVerifier [0x004AD916+547446]\n\tOrdinal0 [0x003B5F3B+1990459]\n\tOrdinal0 [0x003BA898+2009240]\n\tOrdinal0 [0x003BA985+2009477]\n\tOrdinal0 [0x003C3AD1+2046673]\n\tBaseThreadInitThunk [0x7727FA29+25]\n\tRtlGetAppContainerNamedObjectPath [0x77D07A9E+286]\n\tRtlGetAppContainerNamedObjectPath [0x77D07A6E+238]\n",
     "output_type": "error",
     "traceback": [
      "\u001b[1;31m---------------------------------------------------------------------------\u001b[0m",
      "\u001b[1;31mElementNotInteractableException\u001b[0m           Traceback (most recent call last)",
      "\u001b[1;32m~\\AppData\\Local\\Temp/ipykernel_19132/2741656795.py\u001b[0m in \u001b[0;36m<module>\u001b[1;34m\u001b[0m\n\u001b[0;32m      1\u001b[0m \u001b[0mlocation_search\u001b[0m\u001b[1;33m=\u001b[0m\u001b[0mdriver10\u001b[0m\u001b[1;33m.\u001b[0m\u001b[0mfind_element_by_xpath\u001b[0m\u001b[1;33m(\u001b[0m\u001b[1;34m\"/html/body/div[3]/div/div/div[1]/div[1]/div/div[2]/div[4]/div/div[2]/div/div[1]/div/div/div/span/i\"\u001b[0m\u001b[1;33m)\u001b[0m\u001b[1;33m\u001b[0m\u001b[1;33m\u001b[0m\u001b[0m\n\u001b[0;32m      2\u001b[0m \u001b[0mtime\u001b[0m\u001b[1;33m.\u001b[0m\u001b[0msleep\u001b[0m\u001b[1;33m(\u001b[0m\u001b[1;36m2\u001b[0m\u001b[1;33m)\u001b[0m\u001b[1;33m\u001b[0m\u001b[1;33m\u001b[0m\u001b[0m\n\u001b[1;32m----> 3\u001b[1;33m \u001b[0mlocation_search\u001b[0m\u001b[1;33m.\u001b[0m\u001b[0msend_keys\u001b[0m\u001b[1;33m(\u001b[0m\u001b[1;34m\"London\"\u001b[0m\u001b[1;33m)\u001b[0m\u001b[1;33m\u001b[0m\u001b[1;33m\u001b[0m\u001b[0m\n\u001b[0m",
      "\u001b[1;32m~\\anaconda3\\lib\\site-packages\\selenium\\webdriver\\remote\\webelement.py\u001b[0m in \u001b[0;36msend_keys\u001b[1;34m(self, *value)\u001b[0m\n\u001b[0;32m    598\u001b[0m                 \u001b[0mvalue\u001b[0m \u001b[1;33m=\u001b[0m \u001b[1;34m'\\n'\u001b[0m\u001b[1;33m.\u001b[0m\u001b[0mjoin\u001b[0m\u001b[1;33m(\u001b[0m\u001b[0mremote_files\u001b[0m\u001b[1;33m)\u001b[0m\u001b[1;33m\u001b[0m\u001b[1;33m\u001b[0m\u001b[0m\n\u001b[0;32m    599\u001b[0m \u001b[1;33m\u001b[0m\u001b[0m\n\u001b[1;32m--> 600\u001b[1;33m         self._execute(Command.SEND_KEYS_TO_ELEMENT,\n\u001b[0m\u001b[0;32m    601\u001b[0m                       {'text': \"\".join(keys_to_typing(value)),\n\u001b[0;32m    602\u001b[0m                        'value': keys_to_typing(value)})\n",
      "\u001b[1;32m~\\anaconda3\\lib\\site-packages\\selenium\\webdriver\\remote\\webelement.py\u001b[0m in \u001b[0;36m_execute\u001b[1;34m(self, command, params)\u001b[0m\n\u001b[0;32m    771\u001b[0m             \u001b[0mparams\u001b[0m \u001b[1;33m=\u001b[0m \u001b[1;33m{\u001b[0m\u001b[1;33m}\u001b[0m\u001b[1;33m\u001b[0m\u001b[1;33m\u001b[0m\u001b[0m\n\u001b[0;32m    772\u001b[0m         \u001b[0mparams\u001b[0m\u001b[1;33m[\u001b[0m\u001b[1;34m'id'\u001b[0m\u001b[1;33m]\u001b[0m \u001b[1;33m=\u001b[0m \u001b[0mself\u001b[0m\u001b[1;33m.\u001b[0m\u001b[0m_id\u001b[0m\u001b[1;33m\u001b[0m\u001b[1;33m\u001b[0m\u001b[0m\n\u001b[1;32m--> 773\u001b[1;33m         \u001b[1;32mreturn\u001b[0m \u001b[0mself\u001b[0m\u001b[1;33m.\u001b[0m\u001b[0m_parent\u001b[0m\u001b[1;33m.\u001b[0m\u001b[0mexecute\u001b[0m\u001b[1;33m(\u001b[0m\u001b[0mcommand\u001b[0m\u001b[1;33m,\u001b[0m \u001b[0mparams\u001b[0m\u001b[1;33m)\u001b[0m\u001b[1;33m\u001b[0m\u001b[1;33m\u001b[0m\u001b[0m\n\u001b[0m\u001b[0;32m    774\u001b[0m \u001b[1;33m\u001b[0m\u001b[0m\n\u001b[0;32m    775\u001b[0m     \u001b[1;32mdef\u001b[0m \u001b[0mfind_element\u001b[0m\u001b[1;33m(\u001b[0m\u001b[0mself\u001b[0m\u001b[1;33m,\u001b[0m \u001b[0mby\u001b[0m\u001b[1;33m=\u001b[0m\u001b[0mBy\u001b[0m\u001b[1;33m.\u001b[0m\u001b[0mID\u001b[0m\u001b[1;33m,\u001b[0m \u001b[0mvalue\u001b[0m\u001b[1;33m=\u001b[0m\u001b[1;32mNone\u001b[0m\u001b[1;33m)\u001b[0m\u001b[1;33m:\u001b[0m\u001b[1;33m\u001b[0m\u001b[1;33m\u001b[0m\u001b[0m\n",
      "\u001b[1;32m~\\anaconda3\\lib\\site-packages\\selenium\\webdriver\\remote\\webdriver.py\u001b[0m in \u001b[0;36mexecute\u001b[1;34m(self, driver_command, params)\u001b[0m\n\u001b[0;32m    428\u001b[0m         \u001b[0mresponse\u001b[0m \u001b[1;33m=\u001b[0m \u001b[0mself\u001b[0m\u001b[1;33m.\u001b[0m\u001b[0mcommand_executor\u001b[0m\u001b[1;33m.\u001b[0m\u001b[0mexecute\u001b[0m\u001b[1;33m(\u001b[0m\u001b[0mdriver_command\u001b[0m\u001b[1;33m,\u001b[0m \u001b[0mparams\u001b[0m\u001b[1;33m)\u001b[0m\u001b[1;33m\u001b[0m\u001b[1;33m\u001b[0m\u001b[0m\n\u001b[0;32m    429\u001b[0m         \u001b[1;32mif\u001b[0m \u001b[0mresponse\u001b[0m\u001b[1;33m:\u001b[0m\u001b[1;33m\u001b[0m\u001b[1;33m\u001b[0m\u001b[0m\n\u001b[1;32m--> 430\u001b[1;33m             \u001b[0mself\u001b[0m\u001b[1;33m.\u001b[0m\u001b[0merror_handler\u001b[0m\u001b[1;33m.\u001b[0m\u001b[0mcheck_response\u001b[0m\u001b[1;33m(\u001b[0m\u001b[0mresponse\u001b[0m\u001b[1;33m)\u001b[0m\u001b[1;33m\u001b[0m\u001b[1;33m\u001b[0m\u001b[0m\n\u001b[0m\u001b[0;32m    431\u001b[0m             response['value'] = self._unwrap_value(\n\u001b[0;32m    432\u001b[0m                 response.get('value', None))\n",
      "\u001b[1;32m~\\anaconda3\\lib\\site-packages\\selenium\\webdriver\\remote\\errorhandler.py\u001b[0m in \u001b[0;36mcheck_response\u001b[1;34m(self, response)\u001b[0m\n\u001b[0;32m    245\u001b[0m                 \u001b[0malert_text\u001b[0m \u001b[1;33m=\u001b[0m \u001b[0mvalue\u001b[0m\u001b[1;33m[\u001b[0m\u001b[1;34m'alert'\u001b[0m\u001b[1;33m]\u001b[0m\u001b[1;33m.\u001b[0m\u001b[0mget\u001b[0m\u001b[1;33m(\u001b[0m\u001b[1;34m'text'\u001b[0m\u001b[1;33m)\u001b[0m\u001b[1;33m\u001b[0m\u001b[1;33m\u001b[0m\u001b[0m\n\u001b[0;32m    246\u001b[0m             \u001b[1;32mraise\u001b[0m \u001b[0mexception_class\u001b[0m\u001b[1;33m(\u001b[0m\u001b[0mmessage\u001b[0m\u001b[1;33m,\u001b[0m \u001b[0mscreen\u001b[0m\u001b[1;33m,\u001b[0m \u001b[0mstacktrace\u001b[0m\u001b[1;33m,\u001b[0m \u001b[0malert_text\u001b[0m\u001b[1;33m)\u001b[0m  \u001b[1;31m# type: ignore[call-arg]  # mypy is not smart enough here\u001b[0m\u001b[1;33m\u001b[0m\u001b[1;33m\u001b[0m\u001b[0m\n\u001b[1;32m--> 247\u001b[1;33m         \u001b[1;32mraise\u001b[0m \u001b[0mexception_class\u001b[0m\u001b[1;33m(\u001b[0m\u001b[0mmessage\u001b[0m\u001b[1;33m,\u001b[0m \u001b[0mscreen\u001b[0m\u001b[1;33m,\u001b[0m \u001b[0mstacktrace\u001b[0m\u001b[1;33m)\u001b[0m\u001b[1;33m\u001b[0m\u001b[1;33m\u001b[0m\u001b[0m\n\u001b[0m\u001b[0;32m    248\u001b[0m \u001b[1;33m\u001b[0m\u001b[0m\n\u001b[0;32m    249\u001b[0m     \u001b[1;32mdef\u001b[0m \u001b[0m_value_or_default\u001b[0m\u001b[1;33m(\u001b[0m\u001b[0mself\u001b[0m\u001b[1;33m,\u001b[0m \u001b[0mobj\u001b[0m\u001b[1;33m:\u001b[0m \u001b[0mMapping\u001b[0m\u001b[1;33m[\u001b[0m\u001b[0m_KT\u001b[0m\u001b[1;33m,\u001b[0m \u001b[0m_VT\u001b[0m\u001b[1;33m]\u001b[0m\u001b[1;33m,\u001b[0m \u001b[0mkey\u001b[0m\u001b[1;33m:\u001b[0m \u001b[0m_KT\u001b[0m\u001b[1;33m,\u001b[0m \u001b[0mdefault\u001b[0m\u001b[1;33m:\u001b[0m \u001b[0m_VT\u001b[0m\u001b[1;33m)\u001b[0m \u001b[1;33m->\u001b[0m \u001b[0m_VT\u001b[0m\u001b[1;33m:\u001b[0m\u001b[1;33m\u001b[0m\u001b[1;33m\u001b[0m\u001b[0m\n",
      "\u001b[1;31mElementNotInteractableException\u001b[0m: Message: element not interactable\n  (Session info: chrome=103.0.5060.114)\nStacktrace:\nBacktrace:\n\tOrdinal0 [0x0041D953+2414931]\n\tOrdinal0 [0x003AF5E1+1963489]\n\tOrdinal0 [0x0029C580+836992]\n\tOrdinal0 [0x002C4BE3+1002467]\n\tOrdinal0 [0x002C42C8+1000136]\n\tOrdinal0 [0x002E449C+1131676]\n\tOrdinal0 [0x002BFC74+982132]\n\tOrdinal0 [0x002E46B4+1132212]\n\tOrdinal0 [0x002F4812+1198098]\n\tOrdinal0 [0x002E42B6+1131190]\n\tOrdinal0 [0x002BE860+976992]\n\tOrdinal0 [0x002BF756+980822]\n\tGetHandleVerifier [0x0068CC62+2510274]\n\tGetHandleVerifier [0x0067F760+2455744]\n\tGetHandleVerifier [0x004AEABA+551962]\n\tGetHandleVerifier [0x004AD916+547446]\n\tOrdinal0 [0x003B5F3B+1990459]\n\tOrdinal0 [0x003BA898+2009240]\n\tOrdinal0 [0x003BA985+2009477]\n\tOrdinal0 [0x003C3AD1+2046673]\n\tBaseThreadInitThunk [0x7727FA29+25]\n\tRtlGetAppContainerNamedObjectPath [0x77D07A9E+286]\n\tRtlGetAppContainerNamedObjectPath [0x77D07A6E+238]\n"
     ]
    }
   ],
   "source": [
    "location_search=driver10.find_element_by_xpath(\"/html/body/div[3]/div/div/div[1]/div[1]/div/div[2]/div[4]/div/div[2]/div/div[1]/div/div/div/span/i\")\n",
    "time.sleep(2)\n",
    "location_search.send_keys(\"London\")"
   ]
  },
  {
   "cell_type": "code",
   "execution_count": 21,
   "id": "7926562d",
   "metadata": {},
   "outputs": [],
   "source": [
    "search_button=driver10.find_element_by_xpath(\"//i[@class='core-icon icon-core-search-fill']\")"
   ]
  },
  {
   "cell_type": "code",
   "execution_count": 10,
   "id": "69c001fe",
   "metadata": {
    "collapsed": true
   },
   "outputs": [
    {
     "ename": "ElementClickInterceptedException",
     "evalue": "Message: element click intercepted: Element is not clickable at point (230, 679)\n  (Session info: chrome=103.0.5060.114)\nStacktrace:\nBacktrace:\n\tOrdinal0 [0x0041D953+2414931]\n\tOrdinal0 [0x003AF5E1+1963489]\n\tOrdinal0 [0x0029C6B8+837304]\n\tOrdinal0 [0x002CFC27+1047591]\n\tOrdinal0 [0x002CDC08+1039368]\n\tOrdinal0 [0x002CB90B+1030411]\n\tOrdinal0 [0x002CA659+1025625]\n\tOrdinal0 [0x002C0293+983699]\n\tOrdinal0 [0x002E449C+1131676]\n\tOrdinal0 [0x002BFC74+982132]\n\tOrdinal0 [0x002E46B4+1132212]\n\tOrdinal0 [0x002F4812+1198098]\n\tOrdinal0 [0x002E42B6+1131190]\n\tOrdinal0 [0x002BE860+976992]\n\tOrdinal0 [0x002BF756+980822]\n\tGetHandleVerifier [0x0068CC62+2510274]\n\tGetHandleVerifier [0x0067F760+2455744]\n\tGetHandleVerifier [0x004AEABA+551962]\n\tGetHandleVerifier [0x004AD916+547446]\n\tOrdinal0 [0x003B5F3B+1990459]\n\tOrdinal0 [0x003BA898+2009240]\n\tOrdinal0 [0x003BA985+2009477]\n\tOrdinal0 [0x003C3AD1+2046673]\n\tBaseThreadInitThunk [0x7727FA29+25]\n\tRtlGetAppContainerNamedObjectPath [0x77D07A9E+286]\n\tRtlGetAppContainerNamedObjectPath [0x77D07A6E+238]\n",
     "output_type": "error",
     "traceback": [
      "\u001b[1;31m---------------------------------------------------------------------------\u001b[0m",
      "\u001b[1;31mElementClickInterceptedException\u001b[0m          Traceback (most recent call last)",
      "\u001b[1;32m~\\AppData\\Local\\Temp/ipykernel_19132/3378743202.py\u001b[0m in \u001b[0;36m<module>\u001b[1;34m\u001b[0m\n\u001b[0;32m      1\u001b[0m \u001b[1;31m#location_click=driver10.find_element_by_xpath(\"/html/body/div[3]/div/div/div[1]/div[1]/div/div[2]/div[4]/div/div[2]/div/div[1]/div/div/ul/li[2]\").click()\u001b[0m\u001b[1;33m\u001b[0m\u001b[1;33m\u001b[0m\u001b[1;33m\u001b[0m\u001b[0m\n\u001b[1;32m----> 2\u001b[1;33m \u001b[0msearch\u001b[0m\u001b[1;33m=\u001b[0m\u001b[0mdriver10\u001b[0m\u001b[1;33m.\u001b[0m\u001b[0mfind_element_by_xpath\u001b[0m\u001b[1;33m(\u001b[0m\u001b[1;34m\"//div[@class='search-button']/button\"\u001b[0m\u001b[1;33m)\u001b[0m\u001b[1;33m.\u001b[0m\u001b[0mclick\u001b[0m\u001b[1;33m(\u001b[0m\u001b[1;33m)\u001b[0m\u001b[1;33m\u001b[0m\u001b[1;33m\u001b[0m\u001b[0m\n\u001b[0m",
      "\u001b[1;32m~\\anaconda3\\lib\\site-packages\\selenium\\webdriver\\remote\\webelement.py\u001b[0m in \u001b[0;36mclick\u001b[1;34m(self)\u001b[0m\n\u001b[0;32m     87\u001b[0m     \u001b[1;32mdef\u001b[0m \u001b[0mclick\u001b[0m\u001b[1;33m(\u001b[0m\u001b[0mself\u001b[0m\u001b[1;33m)\u001b[0m \u001b[1;33m->\u001b[0m \u001b[1;32mNone\u001b[0m\u001b[1;33m:\u001b[0m\u001b[1;33m\u001b[0m\u001b[1;33m\u001b[0m\u001b[0m\n\u001b[0;32m     88\u001b[0m         \u001b[1;34m\"\"\"Clicks the element.\"\"\"\u001b[0m\u001b[1;33m\u001b[0m\u001b[1;33m\u001b[0m\u001b[0m\n\u001b[1;32m---> 89\u001b[1;33m         \u001b[0mself\u001b[0m\u001b[1;33m.\u001b[0m\u001b[0m_execute\u001b[0m\u001b[1;33m(\u001b[0m\u001b[0mCommand\u001b[0m\u001b[1;33m.\u001b[0m\u001b[0mCLICK_ELEMENT\u001b[0m\u001b[1;33m)\u001b[0m\u001b[1;33m\u001b[0m\u001b[1;33m\u001b[0m\u001b[0m\n\u001b[0m\u001b[0;32m     90\u001b[0m \u001b[1;33m\u001b[0m\u001b[0m\n\u001b[0;32m     91\u001b[0m     \u001b[1;32mdef\u001b[0m \u001b[0msubmit\u001b[0m\u001b[1;33m(\u001b[0m\u001b[0mself\u001b[0m\u001b[1;33m)\u001b[0m\u001b[1;33m:\u001b[0m\u001b[1;33m\u001b[0m\u001b[1;33m\u001b[0m\u001b[0m\n",
      "\u001b[1;32m~\\anaconda3\\lib\\site-packages\\selenium\\webdriver\\remote\\webelement.py\u001b[0m in \u001b[0;36m_execute\u001b[1;34m(self, command, params)\u001b[0m\n\u001b[0;32m    771\u001b[0m             \u001b[0mparams\u001b[0m \u001b[1;33m=\u001b[0m \u001b[1;33m{\u001b[0m\u001b[1;33m}\u001b[0m\u001b[1;33m\u001b[0m\u001b[1;33m\u001b[0m\u001b[0m\n\u001b[0;32m    772\u001b[0m         \u001b[0mparams\u001b[0m\u001b[1;33m[\u001b[0m\u001b[1;34m'id'\u001b[0m\u001b[1;33m]\u001b[0m \u001b[1;33m=\u001b[0m \u001b[0mself\u001b[0m\u001b[1;33m.\u001b[0m\u001b[0m_id\u001b[0m\u001b[1;33m\u001b[0m\u001b[1;33m\u001b[0m\u001b[0m\n\u001b[1;32m--> 773\u001b[1;33m         \u001b[1;32mreturn\u001b[0m \u001b[0mself\u001b[0m\u001b[1;33m.\u001b[0m\u001b[0m_parent\u001b[0m\u001b[1;33m.\u001b[0m\u001b[0mexecute\u001b[0m\u001b[1;33m(\u001b[0m\u001b[0mcommand\u001b[0m\u001b[1;33m,\u001b[0m \u001b[0mparams\u001b[0m\u001b[1;33m)\u001b[0m\u001b[1;33m\u001b[0m\u001b[1;33m\u001b[0m\u001b[0m\n\u001b[0m\u001b[0;32m    774\u001b[0m \u001b[1;33m\u001b[0m\u001b[0m\n\u001b[0;32m    775\u001b[0m     \u001b[1;32mdef\u001b[0m \u001b[0mfind_element\u001b[0m\u001b[1;33m(\u001b[0m\u001b[0mself\u001b[0m\u001b[1;33m,\u001b[0m \u001b[0mby\u001b[0m\u001b[1;33m=\u001b[0m\u001b[0mBy\u001b[0m\u001b[1;33m.\u001b[0m\u001b[0mID\u001b[0m\u001b[1;33m,\u001b[0m \u001b[0mvalue\u001b[0m\u001b[1;33m=\u001b[0m\u001b[1;32mNone\u001b[0m\u001b[1;33m)\u001b[0m\u001b[1;33m:\u001b[0m\u001b[1;33m\u001b[0m\u001b[1;33m\u001b[0m\u001b[0m\n",
      "\u001b[1;32m~\\anaconda3\\lib\\site-packages\\selenium\\webdriver\\remote\\webdriver.py\u001b[0m in \u001b[0;36mexecute\u001b[1;34m(self, driver_command, params)\u001b[0m\n\u001b[0;32m    428\u001b[0m         \u001b[0mresponse\u001b[0m \u001b[1;33m=\u001b[0m \u001b[0mself\u001b[0m\u001b[1;33m.\u001b[0m\u001b[0mcommand_executor\u001b[0m\u001b[1;33m.\u001b[0m\u001b[0mexecute\u001b[0m\u001b[1;33m(\u001b[0m\u001b[0mdriver_command\u001b[0m\u001b[1;33m,\u001b[0m \u001b[0mparams\u001b[0m\u001b[1;33m)\u001b[0m\u001b[1;33m\u001b[0m\u001b[1;33m\u001b[0m\u001b[0m\n\u001b[0;32m    429\u001b[0m         \u001b[1;32mif\u001b[0m \u001b[0mresponse\u001b[0m\u001b[1;33m:\u001b[0m\u001b[1;33m\u001b[0m\u001b[1;33m\u001b[0m\u001b[0m\n\u001b[1;32m--> 430\u001b[1;33m             \u001b[0mself\u001b[0m\u001b[1;33m.\u001b[0m\u001b[0merror_handler\u001b[0m\u001b[1;33m.\u001b[0m\u001b[0mcheck_response\u001b[0m\u001b[1;33m(\u001b[0m\u001b[0mresponse\u001b[0m\u001b[1;33m)\u001b[0m\u001b[1;33m\u001b[0m\u001b[1;33m\u001b[0m\u001b[0m\n\u001b[0m\u001b[0;32m    431\u001b[0m             response['value'] = self._unwrap_value(\n\u001b[0;32m    432\u001b[0m                 response.get('value', None))\n",
      "\u001b[1;32m~\\anaconda3\\lib\\site-packages\\selenium\\webdriver\\remote\\errorhandler.py\u001b[0m in \u001b[0;36mcheck_response\u001b[1;34m(self, response)\u001b[0m\n\u001b[0;32m    245\u001b[0m                 \u001b[0malert_text\u001b[0m \u001b[1;33m=\u001b[0m \u001b[0mvalue\u001b[0m\u001b[1;33m[\u001b[0m\u001b[1;34m'alert'\u001b[0m\u001b[1;33m]\u001b[0m\u001b[1;33m.\u001b[0m\u001b[0mget\u001b[0m\u001b[1;33m(\u001b[0m\u001b[1;34m'text'\u001b[0m\u001b[1;33m)\u001b[0m\u001b[1;33m\u001b[0m\u001b[1;33m\u001b[0m\u001b[0m\n\u001b[0;32m    246\u001b[0m             \u001b[1;32mraise\u001b[0m \u001b[0mexception_class\u001b[0m\u001b[1;33m(\u001b[0m\u001b[0mmessage\u001b[0m\u001b[1;33m,\u001b[0m \u001b[0mscreen\u001b[0m\u001b[1;33m,\u001b[0m \u001b[0mstacktrace\u001b[0m\u001b[1;33m,\u001b[0m \u001b[0malert_text\u001b[0m\u001b[1;33m)\u001b[0m  \u001b[1;31m# type: ignore[call-arg]  # mypy is not smart enough here\u001b[0m\u001b[1;33m\u001b[0m\u001b[1;33m\u001b[0m\u001b[0m\n\u001b[1;32m--> 247\u001b[1;33m         \u001b[1;32mraise\u001b[0m \u001b[0mexception_class\u001b[0m\u001b[1;33m(\u001b[0m\u001b[0mmessage\u001b[0m\u001b[1;33m,\u001b[0m \u001b[0mscreen\u001b[0m\u001b[1;33m,\u001b[0m \u001b[0mstacktrace\u001b[0m\u001b[1;33m)\u001b[0m\u001b[1;33m\u001b[0m\u001b[1;33m\u001b[0m\u001b[0m\n\u001b[0m\u001b[0;32m    248\u001b[0m \u001b[1;33m\u001b[0m\u001b[0m\n\u001b[0;32m    249\u001b[0m     \u001b[1;32mdef\u001b[0m \u001b[0m_value_or_default\u001b[0m\u001b[1;33m(\u001b[0m\u001b[0mself\u001b[0m\u001b[1;33m,\u001b[0m \u001b[0mobj\u001b[0m\u001b[1;33m:\u001b[0m \u001b[0mMapping\u001b[0m\u001b[1;33m[\u001b[0m\u001b[0m_KT\u001b[0m\u001b[1;33m,\u001b[0m \u001b[0m_VT\u001b[0m\u001b[1;33m]\u001b[0m\u001b[1;33m,\u001b[0m \u001b[0mkey\u001b[0m\u001b[1;33m:\u001b[0m \u001b[0m_KT\u001b[0m\u001b[1;33m,\u001b[0m \u001b[0mdefault\u001b[0m\u001b[1;33m:\u001b[0m \u001b[0m_VT\u001b[0m\u001b[1;33m)\u001b[0m \u001b[1;33m->\u001b[0m \u001b[0m_VT\u001b[0m\u001b[1;33m:\u001b[0m\u001b[1;33m\u001b[0m\u001b[1;33m\u001b[0m\u001b[0m\n",
      "\u001b[1;31mElementClickInterceptedException\u001b[0m: Message: element click intercepted: Element is not clickable at point (230, 679)\n  (Session info: chrome=103.0.5060.114)\nStacktrace:\nBacktrace:\n\tOrdinal0 [0x0041D953+2414931]\n\tOrdinal0 [0x003AF5E1+1963489]\n\tOrdinal0 [0x0029C6B8+837304]\n\tOrdinal0 [0x002CFC27+1047591]\n\tOrdinal0 [0x002CDC08+1039368]\n\tOrdinal0 [0x002CB90B+1030411]\n\tOrdinal0 [0x002CA659+1025625]\n\tOrdinal0 [0x002C0293+983699]\n\tOrdinal0 [0x002E449C+1131676]\n\tOrdinal0 [0x002BFC74+982132]\n\tOrdinal0 [0x002E46B4+1132212]\n\tOrdinal0 [0x002F4812+1198098]\n\tOrdinal0 [0x002E42B6+1131190]\n\tOrdinal0 [0x002BE860+976992]\n\tOrdinal0 [0x002BF756+980822]\n\tGetHandleVerifier [0x0068CC62+2510274]\n\tGetHandleVerifier [0x0067F760+2455744]\n\tGetHandleVerifier [0x004AEABA+551962]\n\tGetHandleVerifier [0x004AD916+547446]\n\tOrdinal0 [0x003B5F3B+1990459]\n\tOrdinal0 [0x003BA898+2009240]\n\tOrdinal0 [0x003BA985+2009477]\n\tOrdinal0 [0x003C3AD1+2046673]\n\tBaseThreadInitThunk [0x7727FA29+25]\n\tRtlGetAppContainerNamedObjectPath [0x77D07A9E+286]\n\tRtlGetAppContainerNamedObjectPath [0x77D07A6E+238]\n"
     ]
    }
   ],
   "source": [
    "#location_click=driver10.find_element_by_xpath(\"/html/body/div[3]/div/div/div[1]/div[1]/div/div[2]/div[4]/div/div[2]/div/div[1]/div/div/ul/li[2]\").click()\n",
    "search=driver10.find_element_by_xpath(\"//div[@class='search-button']/button\").click()"
   ]
  },
  {
   "cell_type": "code",
   "execution_count": null,
   "id": "964a75bf",
   "metadata": {},
   "outputs": [],
   "source": [
    "hostel=[]\n",
    "distance=[]\n",
    "rating=[]\n",
    "total_review=[]\n",
    "overall_review=[]\n",
    "private=[]\n",
    "dorms=[]\n",
    "facilities=[]\n",
    "propert=[]\n",
    "url=[]"
   ]
  },
  {
   "cell_type": "code",
   "execution_count": null,
   "id": "6ab81dbc",
   "metadata": {},
   "outputs": [],
   "source": [
    "for i in driver10.find_elements_by_xpath(\"//div[@class='prices-col']/a[2]\"):\n",
    "    url.append(i.get_attribute('href'))"
   ]
  },
  {
   "cell_type": "code",
   "execution_count": null,
   "id": "4f44c39a",
   "metadata": {},
   "outputs": [],
   "source": [
    "print(url)"
   ]
  },
  {
   "cell_type": "code",
   "execution_count": null,
   "id": "dad9a408",
   "metadata": {},
   "outputs": [],
   "source": [
    "try:\n",
    "    for i in driver10.find_elements_by_xpath(\"//h2[@class='title title-6']\"):\n",
    "        hostel.append(i.text)\n",
    "except:\n",
    "    hostel.append(\"-\")"
   ]
  },
  {
   "cell_type": "code",
   "execution_count": null,
   "id": "455f4b3c",
   "metadata": {},
   "outputs": [],
   "source": [
    "try:\n",
    "    for i in driver10.find_elements_by_xpath(\"//div[@class='subtitle body-3']\"):\n",
    "        distance.append(i.text.split())\n",
    "except:\n",
    "    distance.append(\"-\")"
   ]
  },
  {
   "cell_type": "code",
   "execution_count": null,
   "id": "15189c9e",
   "metadata": {},
   "outputs": [],
   "source": [
    "try:\n",
    "    for i in driver10.find_elements_by_xpath(\"//div[@class='rating rating-summary-container big']\"):\n",
    "        rating.append(i.text)\n",
    "except:\n",
    "    rating.append(\"-\")"
   ]
  },
  {
   "cell_type": "code",
   "execution_count": null,
   "id": "297cb911",
   "metadata": {},
   "outputs": [],
   "source": [
    "try:\n",
    "    for i in driver10.find_elements_by_xpath(\"//div[@class='rating rating-summary-container big']/div[2]/div[2]\"):\n",
    "        total_review.append(i.text)\n",
    "except:\n",
    "    total_review.append(\"-\")"
   ]
  },
  {
   "cell_type": "code",
   "execution_count": null,
   "id": "c3cb410e",
   "metadata": {},
   "outputs": [],
   "source": [
    "try:\n",
    "    for i in driver10.find_elements_by_xpath(\"//div[@class='rating rating-summary-container big']/div[1]\"):\n",
    "        overall_review.append(i.text.split())\n",
    "except:\n",
    "    overall_review.append(\"-\")"
   ]
  },
  {
   "cell_type": "code",
   "execution_count": null,
   "id": "60b7301b",
   "metadata": {},
   "outputs": [],
   "source": [
    "try:\n",
    "    for i in driver10.find_elements_by_xpath(\"//div[@class='prices']//div[1]/div\"):\n",
    "        private.append(i.text)\n",
    "\n",
    "    \n",
    "except NoSuchElementException:\n",
    "    private.append(\"-\")"
   ]
  },
  {
   "cell_type": "code",
   "execution_count": null,
   "id": "e7093822",
   "metadata": {},
   "outputs": [],
   "source": [
    "for i in url:\n",
    "    driver10.get(i)\n",
    "    time.sleep(5)\n",
    "    try:\n",
    "        a=driver10.find_element_by_xpath(\"/html/body/div[3]/div/div/div[1]/section/div[6]/div/div[2]/div/div/div[2]\").click\n",
    "        propert.append(a.text)\n",
    "        \n",
    "    except NoSuchElementException:\n",
    "        propert.append(\"-\")\n",
    " \n",
    "\n",
    "       \n",
    "    try:\n",
    "        b=driver10.find_elements_by_xpath(\"//ul[@class='facility-sections']\")\n",
    "        facilities.append(b.text)\n",
    "    except NoSuchElementException:\n",
    "        facilities.append(\"-\")"
   ]
  },
  {
   "cell_type": "code",
   "execution_count": null,
   "id": "1a1a5112",
   "metadata": {},
   "outputs": [],
   "source": [
    "print(len(url))"
   ]
  },
  {
   "cell_type": "code",
   "execution_count": 4,
   "id": "4fcbe142",
   "metadata": {},
   "outputs": [],
   "source": [
    "driver10.close()"
   ]
  }
 ],
 "metadata": {
  "kernelspec": {
   "display_name": "Python 3 (ipykernel)",
   "language": "python",
   "name": "python3"
  },
  "language_info": {
   "codemirror_mode": {
    "name": "ipython",
    "version": 3
   },
   "file_extension": ".py",
   "mimetype": "text/x-python",
   "name": "python",
   "nbconvert_exporter": "python",
   "pygments_lexer": "ipython3",
   "version": "3.8.12"
  }
 },
 "nbformat": 4,
 "nbformat_minor": 5
}
